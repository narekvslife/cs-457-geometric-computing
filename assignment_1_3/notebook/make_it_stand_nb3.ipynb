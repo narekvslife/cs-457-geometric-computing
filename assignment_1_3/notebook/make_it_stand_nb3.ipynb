{
 "cells": [
  {
   "cell_type": "code",
   "execution_count": 1,
   "metadata": {},
   "outputs": [],
   "source": [
    "import numpy as np\n",
    "import sys\n",
    "import json\n",
    "from matplotlib import pyplot as plt\n",
    "import meshplot as mp\n",
    "import cv2\n",
    "import svgwrite\n",
    "import igl\n",
    "sys.path.append(\"../src\")"
   ]
  },
  {
   "cell_type": "markdown",
   "metadata": {},
   "source": [
    "# 1. BFGS Approximated Hessian Matirx and its Inverse Matrix"
   ]
  },
  {
   "cell_type": "code",
   "execution_count": 2,
   "metadata": {},
   "outputs": [],
   "source": [
    "def f(x):\n",
    "    return np.linalg.norm(x) ** 2\n",
    "\n",
    "def grad_f(x):\n",
    "    return 2 * x"
   ]
  },
  {
   "cell_type": "code",
   "execution_count": 3,
   "metadata": {},
   "outputs": [],
   "source": [
    "from bfgs import compute_approximate_hessian_matrix\n",
    "x = np.array([1, 1])\n",
    "p = -grad_f(x)\n",
    "alpha = 1.0\n",
    "y = x + alpha * p\n",
    "sk = (y - x).reshape(2, 1)\n",
    "yk = (grad_f(y) - grad_f(x)).reshape(2, 1)\n",
    "Bk = np.identity(2)\n",
    "Bnew = compute_approximate_hessian_matrix(sk, yk, Bk)"
   ]
  },
  {
   "cell_type": "code",
   "execution_count": 4,
   "metadata": {},
   "outputs": [],
   "source": [
    "from bfgs import compute_inverse_approximate_hessian_matrix\n",
    "x = np.array([1, 1])\n",
    "p = -grad_f(x)\n",
    "alpha = 1.0\n",
    "y = x + alpha * p\n",
    "sk = (y - x).reshape(2, 1)\n",
    "yk = (grad_f(y) - grad_f(x)).reshape(2, 1)\n",
    "invBk = np.identity(2)\n",
    "invBnew = compute_inverse_approximate_hessian_matrix(sk, yk, invBk)\n"
   ]
  },
  {
   "cell_type": "markdown",
   "metadata": {},
   "source": [
    "The matrix multiplation of the two matrix should be indentity matrix."
   ]
  },
  {
   "cell_type": "code",
   "execution_count": 5,
   "metadata": {},
   "outputs": [
    {
     "name": "stdout",
     "output_type": "stream",
     "text": [
      "[[1. 0.]\n",
      " [0. 1.]]\n"
     ]
    }
   ],
   "source": [
    "print(Bnew @ invBnew)"
   ]
  },
  {
   "cell_type": "markdown",
   "metadata": {},
   "source": [
    "# 2. Gradient Descent with Backtracking Line Search "
   ]
  },
  {
   "cell_type": "code",
   "execution_count": 62,
   "metadata": {},
   "outputs": [],
   "source": [
    "with open('../data/dinosaur.json', 'r') as infile:\n",
    "    [V, F] = json.load(infile)\n",
    "    V = np.array(V)\n",
    "    F = np.array(F)"
   ]
  },
  {
   "cell_type": "code",
   "execution_count": 63,
   "metadata": {},
   "outputs": [],
   "source": [
    "from geometry import compute_mesh_centroid\n",
    "\n",
    "shader = {\"flat\":True, # Flat or smooth shading of triangles\n",
    "           \"wireframe\": True, \"wire_width\": 0.03, \"wire_color\": \"black\", # Wireframe rendering\n",
    "           \"width\": 600, \"height\": 600, # Size of the viewer canvas\n",
    "           \"antialias\": True, # Antialising, might not work on all GPUs\n",
    "           \"scale\": 2.0, # Scaling of the model\n",
    "           \"side\": \"DoubleSide\", # FrontSide, BackSide or DoubleSide rendering of the triangles\n",
    "           \"colormap\": \"viridis\", \"normalize\": [None, None], # Colormap and normalization for colors\n",
    "           \"background\": \"#ffffff\", # Background color of the canvas\n",
    "           \"line_width\": 1.0, \"line_color\": \"black\", # Line properties of overlay lines\n",
    "           \"bbox\": False, # Enable plotting of bounding box\n",
    "           \"point_color\": \"red\", \"point_size\": 0.01 # Point properties of overlay points\n",
    "          }\n",
    "\n",
    "def draw_meshes_comparison(V1, F1, V2, F2, color1, color2):\n",
    "    mesh_plot = mp.plot(V1, F1, c = color1, return_plot=True)\n",
    "    mesh_plot.add_mesh(V2, F2, c = color2, shading=shader)\n",
    "    \n",
    "    center0 = np.array(compute_mesh_centroid(V2, F2))\n",
    "    center1 = center0.copy()\n",
    "    center1[1] = 0\n",
    "    vertices = np.vstack([center0, center1])\n",
    "    mesh_plot.add_points(vertices, shading={\"point_color\": \"black\", \"point_size\": 0.1})\n",
    "    mesh_plot.add_edges(vertices, np.array([[0, 1]]), shading={\"line_color\": \"black\", \"line_width\" : 0.5});"
   ]
  },
  {
   "cell_type": "code",
   "execution_count": 64,
   "metadata": {},
   "outputs": [
    {
     "ename": "KeyboardInterrupt",
     "evalue": "",
     "output_type": "error",
     "traceback": [
      "\u001b[0;31m---------------------------------------------------------------------------\u001b[0m",
      "\u001b[0;31mKeyboardInterrupt\u001b[0m                         Traceback (most recent call last)",
      "\u001b[0;32m/var/folders/zr/9df_syx90yvdyhsrsgyjwknc0000gn/T/ipykernel_89577/4201779624.py\u001b[0m in \u001b[0;36m<module>\u001b[0;34m\u001b[0m\n\u001b[1;32m      2\u001b[0m \u001b[0;32mfrom\u001b[0m \u001b[0mlinesearch\u001b[0m \u001b[0;32mimport\u001b[0m \u001b[0mgradient_descent_with_line_search\u001b[0m\u001b[0;34m\u001b[0m\u001b[0;34m\u001b[0m\u001b[0m\n\u001b[1;32m      3\u001b[0m \u001b[0mx_csl\u001b[0m \u001b[0;34m=\u001b[0m \u001b[0mcompute_center_support_line\u001b[0m\u001b[0;34m(\u001b[0m\u001b[0mV\u001b[0m\u001b[0;34m)\u001b[0m\u001b[0;34m\u001b[0m\u001b[0;34m\u001b[0m\u001b[0m\n\u001b[0;32m----> 4\u001b[0;31m \u001b[0;34m[\u001b[0m\u001b[0mV1\u001b[0m\u001b[0;34m,\u001b[0m \u001b[0mF\u001b[0m\u001b[0;34m,\u001b[0m \u001b[0mobjective\u001b[0m\u001b[0;34m,\u001b[0m \u001b[0mrunning_time\u001b[0m\u001b[0;34m]\u001b[0m \u001b[0;34m=\u001b[0m \u001b[0mgradient_descent_with_line_search\u001b[0m\u001b[0;34m(\u001b[0m\u001b[0mV\u001b[0m\u001b[0;34m,\u001b[0m \u001b[0mF\u001b[0m\u001b[0;34m,\u001b[0m \u001b[0mx_csl\u001b[0m\u001b[0;34m,\u001b[0m \u001b[0mw\u001b[0m \u001b[0;34m=\u001b[0m \u001b[0;36m10\u001b[0m\u001b[0;34m,\u001b[0m \u001b[0mobj_tol\u001b[0m \u001b[0;34m=\u001b[0m \u001b[0;36m1E-8\u001b[0m\u001b[0;34m,\u001b[0m \u001b[0mtheta\u001b[0m \u001b[0;34m=\u001b[0m \u001b[0;36m1.0\u001b[0m\u001b[0;34m,\u001b[0m \u001b[0mbeta\u001b[0m \u001b[0;34m=\u001b[0m \u001b[0;36m0.5\u001b[0m\u001b[0;34m,\u001b[0m \u001b[0mc\u001b[0m \u001b[0;34m=\u001b[0m \u001b[0;36m0.02\u001b[0m\u001b[0;34m,\u001b[0m \u001b[0miter\u001b[0m \u001b[0;34m=\u001b[0m \u001b[0;36m10000\u001b[0m\u001b[0;34m)\u001b[0m\u001b[0;34m\u001b[0m\u001b[0;34m\u001b[0m\u001b[0m\n\u001b[0m\u001b[1;32m      5\u001b[0m \u001b[0;34m\u001b[0m\u001b[0m\n\u001b[1;32m      6\u001b[0m \u001b[0mmesh_plot\u001b[0m \u001b[0;34m=\u001b[0m \u001b[0mdraw_meshes_comparison\u001b[0m\u001b[0;34m(\u001b[0m\u001b[0mV\u001b[0m\u001b[0;34m,\u001b[0m \u001b[0mF\u001b[0m\u001b[0;34m,\u001b[0m \u001b[0mV1\u001b[0m\u001b[0;34m,\u001b[0m \u001b[0mF\u001b[0m\u001b[0;34m,\u001b[0m \u001b[0mnp\u001b[0m\u001b[0;34m.\u001b[0m\u001b[0marray\u001b[0m\u001b[0;34m(\u001b[0m\u001b[0;34m[\u001b[0m\u001b[0;36m0.3\u001b[0m\u001b[0;34m,\u001b[0m \u001b[0;36m0.3\u001b[0m\u001b[0;34m,\u001b[0m \u001b[0;36m0.3\u001b[0m\u001b[0;34m]\u001b[0m\u001b[0;34m)\u001b[0m\u001b[0;34m,\u001b[0m \u001b[0mnp\u001b[0m\u001b[0;34m.\u001b[0m\u001b[0marray\u001b[0m\u001b[0;34m(\u001b[0m\u001b[0;34m[\u001b[0m\u001b[0;36m1.0\u001b[0m\u001b[0;34m,\u001b[0m \u001b[0;36m1.0\u001b[0m\u001b[0;34m,\u001b[0m \u001b[0;36m0\u001b[0m\u001b[0;34m]\u001b[0m\u001b[0;34m)\u001b[0m\u001b[0;34m)\u001b[0m\u001b[0;34m\u001b[0m\u001b[0;34m\u001b[0m\u001b[0m\n",
      "\u001b[0;32m~/epfl/1_year/geometric_computing/cs457-2021-narekvslife/assignment_1_3/notebook/../src/linesearch.py\u001b[0m in \u001b[0;36mgradient_descent_with_line_search\u001b[0;34m(V, F, x_csl, w, obj_tol, theta, beta, c, iter)\u001b[0m\n\u001b[1;32m    159\u001b[0m         \u001b[0menergy\u001b[0m\u001b[0;34m.\u001b[0m\u001b[0mappend\u001b[0m\u001b[0;34m(\u001b[0m\u001b[0mobj\u001b[0m\u001b[0;34m)\u001b[0m\u001b[0;34m\u001b[0m\u001b[0;34m\u001b[0m\u001b[0m\n\u001b[1;32m    160\u001b[0m \u001b[0;34m\u001b[0m\u001b[0m\n\u001b[0;32m--> 161\u001b[0;31m         \u001b[0mgrad\u001b[0m \u001b[0;34m=\u001b[0m \u001b[0mcompute_optimization_objective_gradient\u001b[0m\u001b[0;34m(\u001b[0m\u001b[0mV1\u001b[0m\u001b[0;34m,\u001b[0m \u001b[0mF\u001b[0m\u001b[0;34m,\u001b[0m \u001b[0mE\u001b[0m\u001b[0;34m,\u001b[0m \u001b[0mx_csl\u001b[0m\u001b[0;34m,\u001b[0m \u001b[0mL0\u001b[0m\u001b[0;34m,\u001b[0m \u001b[0mw\u001b[0m\u001b[0;34m)\u001b[0m\u001b[0;34m\u001b[0m\u001b[0;34m\u001b[0m\u001b[0m\n\u001b[0m\u001b[1;32m    162\u001b[0m \u001b[0;34m\u001b[0m\u001b[0m\n\u001b[1;32m    163\u001b[0m         \u001b[0mgrad\u001b[0m\u001b[0;34m[\u001b[0m\u001b[0mfix\u001b[0m\u001b[0;34m]\u001b[0m \u001b[0;34m=\u001b[0m \u001b[0;36m0\u001b[0m\u001b[0;34m\u001b[0m\u001b[0;34m\u001b[0m\u001b[0m\n",
      "\u001b[0;32m~/epfl/1_year/geometric_computing/cs457-2021-narekvslife/assignment_1_3/notebook/../src/optimization.py\u001b[0m in \u001b[0;36mcompute_optimization_objective_gradient\u001b[0;34m(V, F, E, x_csl, L0, w)\u001b[0m\n\u001b[1;32m     62\u001b[0m     \"\"\"\n\u001b[1;32m     63\u001b[0m \u001b[0;34m\u001b[0m\u001b[0m\n\u001b[0;32m---> 64\u001b[0;31m     \u001b[0mD_E_equilibrium\u001b[0m \u001b[0;34m=\u001b[0m \u001b[0mcompute_equilibrium_energy_gradient\u001b[0m\u001b[0;34m(\u001b[0m\u001b[0mV\u001b[0m\u001b[0;34m,\u001b[0m \u001b[0mF\u001b[0m\u001b[0;34m,\u001b[0m \u001b[0mx_csl\u001b[0m\u001b[0;34m)\u001b[0m\u001b[0;34m\u001b[0m\u001b[0;34m\u001b[0m\u001b[0m\n\u001b[0m\u001b[1;32m     65\u001b[0m     \u001b[0mD_E_shape\u001b[0m \u001b[0;34m=\u001b[0m \u001b[0mcompute_shape_energy_gradient\u001b[0m\u001b[0;34m(\u001b[0m\u001b[0mV\u001b[0m\u001b[0;34m,\u001b[0m \u001b[0mE\u001b[0m\u001b[0;34m,\u001b[0m \u001b[0mL0\u001b[0m\u001b[0;34m)\u001b[0m\u001b[0;34m\u001b[0m\u001b[0;34m\u001b[0m\u001b[0m\n\u001b[1;32m     66\u001b[0m \u001b[0;34m\u001b[0m\u001b[0m\n",
      "\u001b[0;32m~/epfl/1_year/geometric_computing/cs457-2021-narekvslife/assignment_1_3/notebook/../src/energies.py\u001b[0m in \u001b[0;36mcompute_equilibrium_energy_gradient\u001b[0;34m(V, F, x_csl)\u001b[0m\n\u001b[1;32m    204\u001b[0m \u001b[0;34m\u001b[0m\u001b[0m\n\u001b[1;32m    205\u001b[0m     \u001b[0mD_x\u001b[0m \u001b[0;34m=\u001b[0m \u001b[0mvertex_cells_sum\u001b[0m\u001b[0;34m(\u001b[0m\u001b[0mD_x\u001b[0m\u001b[0;34m,\u001b[0m \u001b[0mF\u001b[0m\u001b[0;34m)\u001b[0m\u001b[0;34m\u001b[0m\u001b[0;34m\u001b[0m\u001b[0m\n\u001b[0;32m--> 206\u001b[0;31m     \u001b[0mD_y\u001b[0m \u001b[0;34m=\u001b[0m \u001b[0mvertex_cells_sum\u001b[0m\u001b[0;34m(\u001b[0m\u001b[0mD_y\u001b[0m\u001b[0;34m,\u001b[0m \u001b[0mF\u001b[0m\u001b[0;34m)\u001b[0m\u001b[0;34m\u001b[0m\u001b[0;34m\u001b[0m\u001b[0m\n\u001b[0m\u001b[1;32m    207\u001b[0m \u001b[0;34m\u001b[0m\u001b[0m\n\u001b[1;32m    208\u001b[0m     \u001b[0mgrad_E_eq\u001b[0m \u001b[0;34m=\u001b[0m \u001b[0;36m1\u001b[0m\u001b[0;34m/\u001b[0m\u001b[0mnp\u001b[0m\u001b[0;34m.\u001b[0m\u001b[0msum\u001b[0m\u001b[0;34m(\u001b[0m\u001b[0mA_f\u001b[0m\u001b[0;34m)\u001b[0m \u001b[0;34m*\u001b[0m \u001b[0;34m(\u001b[0m\u001b[0mx_cm\u001b[0m \u001b[0;34m-\u001b[0m \u001b[0mx_csl\u001b[0m\u001b[0;34m)\u001b[0m \u001b[0;34m*\u001b[0m \u001b[0mnp\u001b[0m\u001b[0;34m.\u001b[0m\u001b[0mcolumn_stack\u001b[0m\u001b[0;34m(\u001b[0m\u001b[0;34m(\u001b[0m\u001b[0mD_x\u001b[0m\u001b[0;34m,\u001b[0m \u001b[0mD_y\u001b[0m\u001b[0;34m)\u001b[0m\u001b[0;34m)\u001b[0m\u001b[0;34m\u001b[0m\u001b[0;34m\u001b[0m\u001b[0m\n",
      "\u001b[0;32m~/epfl/1_year/geometric_computing/cs457-2021-narekvslife/assignment_1_3/notebook/../src/energies.py\u001b[0m in \u001b[0;36mvertex_cells_sum\u001b[0;34m(values, cells)\u001b[0m\n\u001b[1;32m     43\u001b[0m \u001b[0;34m\u001b[0m\u001b[0m\n\u001b[1;32m     44\u001b[0m     \u001b[0;31m# i/j - row/column indexes of final matrix to fill (if duplicate indexes then values are summed) with data from v\u001b[0m\u001b[0;34m\u001b[0m\u001b[0;34m\u001b[0m\u001b[0m\n\u001b[0;32m---> 45\u001b[0;31m     \u001b[0mv_sum\u001b[0m \u001b[0;34m=\u001b[0m \u001b[0msparse\u001b[0m\u001b[0;34m.\u001b[0m\u001b[0mcoo_matrix\u001b[0m\u001b[0;34m(\u001b[0m\u001b[0;34m(\u001b[0m\u001b[0mv\u001b[0m\u001b[0;34m,\u001b[0m \u001b[0;34m(\u001b[0m\u001b[0mi\u001b[0m\u001b[0;34m,\u001b[0m \u001b[0mj\u001b[0m\u001b[0;34m)\u001b[0m\u001b[0;34m)\u001b[0m\u001b[0;34m,\u001b[0m \u001b[0;34m(\u001b[0m\u001b[0mnp\u001b[0m\u001b[0;34m.\u001b[0m\u001b[0mmax\u001b[0m\u001b[0;34m(\u001b[0m\u001b[0mcells\u001b[0m\u001b[0;34m)\u001b[0m \u001b[0;34m+\u001b[0m \u001b[0;36m1\u001b[0m\u001b[0;34m,\u001b[0m \u001b[0mlen\u001b[0m\u001b[0;34m(\u001b[0m\u001b[0mcells\u001b[0m\u001b[0;34m)\u001b[0m\u001b[0;34m)\u001b[0m\u001b[0;34m)\u001b[0m  \u001b[0;31m# v_sum.shape = (np.max(cells) + 1, len(cells)\u001b[0m\u001b[0;34m\u001b[0m\u001b[0;34m\u001b[0m\u001b[0m\n\u001b[0m\u001b[1;32m     46\u001b[0m     \u001b[0;32mreturn\u001b[0m \u001b[0mnp\u001b[0m\u001b[0;34m.\u001b[0m\u001b[0marray\u001b[0m\u001b[0;34m(\u001b[0m\u001b[0mv_sum\u001b[0m\u001b[0;34m.\u001b[0m\u001b[0msum\u001b[0m\u001b[0;34m(\u001b[0m\u001b[0maxis\u001b[0m\u001b[0;34m=\u001b[0m\u001b[0;36m1\u001b[0m\u001b[0;34m)\u001b[0m\u001b[0;34m)\u001b[0m\u001b[0;34m.\u001b[0m\u001b[0mflatten\u001b[0m\u001b[0;34m(\u001b[0m\u001b[0;34m)\u001b[0m\u001b[0;34m\u001b[0m\u001b[0;34m\u001b[0m\u001b[0m\n\u001b[1;32m     47\u001b[0m \u001b[0;34m\u001b[0m\u001b[0m\n",
      "\u001b[0;32m<__array_function__ internals>\u001b[0m in \u001b[0;36mamax\u001b[0;34m(*args, **kwargs)\u001b[0m\n",
      "\u001b[0;32m/opt/homebrew/anaconda3/envs/gc_course_env/lib/python3.9/site-packages/numpy/core/fromnumeric.py\u001b[0m in \u001b[0;36mamax\u001b[0;34m(a, axis, out, keepdims, initial, where)\u001b[0m\n\u001b[1;32m   2752\u001b[0m     \u001b[0;36m5\u001b[0m\u001b[0;34m\u001b[0m\u001b[0;34m\u001b[0m\u001b[0m\n\u001b[1;32m   2753\u001b[0m     \"\"\"\n\u001b[0;32m-> 2754\u001b[0;31m     return _wrapreduction(a, np.maximum, 'max', axis, None, out,\n\u001b[0m\u001b[1;32m   2755\u001b[0m                           keepdims=keepdims, initial=initial, where=where)\n\u001b[1;32m   2756\u001b[0m \u001b[0;34m\u001b[0m\u001b[0m\n",
      "\u001b[0;32m/opt/homebrew/anaconda3/envs/gc_course_env/lib/python3.9/site-packages/numpy/core/fromnumeric.py\u001b[0m in \u001b[0;36m_wrapreduction\u001b[0;34m(obj, ufunc, method, axis, dtype, out, **kwargs)\u001b[0m\n\u001b[1;32m     84\u001b[0m                 \u001b[0;32mreturn\u001b[0m \u001b[0mreduction\u001b[0m\u001b[0;34m(\u001b[0m\u001b[0maxis\u001b[0m\u001b[0;34m=\u001b[0m\u001b[0maxis\u001b[0m\u001b[0;34m,\u001b[0m \u001b[0mout\u001b[0m\u001b[0;34m=\u001b[0m\u001b[0mout\u001b[0m\u001b[0;34m,\u001b[0m \u001b[0;34m**\u001b[0m\u001b[0mpasskwargs\u001b[0m\u001b[0;34m)\u001b[0m\u001b[0;34m\u001b[0m\u001b[0;34m\u001b[0m\u001b[0m\n\u001b[1;32m     85\u001b[0m \u001b[0;34m\u001b[0m\u001b[0m\n\u001b[0;32m---> 86\u001b[0;31m     \u001b[0;32mreturn\u001b[0m \u001b[0mufunc\u001b[0m\u001b[0;34m.\u001b[0m\u001b[0mreduce\u001b[0m\u001b[0;34m(\u001b[0m\u001b[0mobj\u001b[0m\u001b[0;34m,\u001b[0m \u001b[0maxis\u001b[0m\u001b[0;34m,\u001b[0m \u001b[0mdtype\u001b[0m\u001b[0;34m,\u001b[0m \u001b[0mout\u001b[0m\u001b[0;34m,\u001b[0m \u001b[0;34m**\u001b[0m\u001b[0mpasskwargs\u001b[0m\u001b[0;34m)\u001b[0m\u001b[0;34m\u001b[0m\u001b[0;34m\u001b[0m\u001b[0m\n\u001b[0m\u001b[1;32m     87\u001b[0m \u001b[0;34m\u001b[0m\u001b[0m\n\u001b[1;32m     88\u001b[0m \u001b[0;34m\u001b[0m\u001b[0m\n",
      "\u001b[0;31mKeyboardInterrupt\u001b[0m: "
     ]
    }
   ],
   "source": [
    "from geometry import compute_center_support_line\n",
    "from linesearch import gradient_descent_with_line_search\n",
    "x_csl = compute_center_support_line(V)\n",
    "[V1, F, objective, running_time] = gradient_descent_with_line_search(V, F, x_csl, w = 10, obj_tol = 1E-8, theta = 1.0, beta = 0.5, c = 0.02, iter = 10000)\n",
    "\n",
    "mesh_plot = draw_meshes_comparison(V, F, V1, F, np.array([0.3, 0.3, 0.3]), np.array([1.0, 1.0, 0]))\n",
    "print(running_time)"
   ]
  },
  {
   "cell_type": "code",
   "execution_count": 9,
   "metadata": {},
   "outputs": [
    {
     "data": {
      "image/png": "[encoded data removed]",
      "text/plain": [
       "<Figure size 432x288 with 1 Axes>"
      ]
     },
     "metadata": {
      "needs_background": "light"
     },
     "output_type": "display_data"
    }
   ],
   "source": [
    "fig = plt.figure()\n",
    "plt.plot(objective)\n",
    "plt.xlabel(\"number of iteration\")\n",
    "plt.ylabel(\"objective energy\")\n",
    "plt.show()"
   ]
  },
  {
   "cell_type": "markdown",
   "metadata": {},
   "source": [
    "# 3. BGFS with Backtracking Line Search "
   ]
  },
  {
   "cell_type": "code",
   "execution_count": 166,
   "metadata": {
    "scrolled": false
   },
   "outputs": [
    {
     "data": {
      "application/vnd.jupyter.widget-view+json": {
       "model_id": "912d510366f845a5a7dac9d370486559",
       "version_major": 2,
       "version_minor": 0
      },
      "text/plain": [
       "Renderer(camera=PerspectiveCamera(children=(DirectionalLight(color='white', intensity=0.6, position=(0.5046897…"
      ]
     },
     "metadata": {},
     "output_type": "display_data"
    },
    {
     "name": "stdout",
     "output_type": "stream",
     "text": [
      "0.6582610607147217\n"
     ]
    }
   ],
   "source": [
    "from geometry import compute_center_support_line\n",
    "from bfgs import bfgs_with_line_search\n",
    "x_csl = compute_center_support_line(V)\n",
    "[V1, F, objective, running_time] = bfgs_with_line_search(V, F, x_csl, w = 2, obj_tol = 1E-10, theta = 1000, beta = 0.855, c = 0.6, iter = 10000)\n",
    "mesh_plot = draw_meshes_comparison(V, F, V1, F, np.array([0.3, 0.3, 0.3]), np.array([1.0, 1.0, 0]))\n",
    "print(running_time)"
   ]
  },
  {
   "cell_type": "code",
   "execution_count": 167,
   "metadata": {},
   "outputs": [
    {
     "data": {
      "image/png": "[encoded data removed]",
      "text/plain": [
       "<Figure size 432x288 with 1 Axes>"
      ]
     },
     "metadata": {
      "needs_background": "light"
     },
     "output_type": "display_data"
    }
   ],
   "source": [
    "fig = plt.figure()\n",
    "plt.plot(objective)\n",
    "plt.xlabel(\"number of iteration\")\n",
    "plt.ylabel(\"objective energy\")\n",
    "plt.show()"
   ]
  },
  {
   "cell_type": "markdown",
   "metadata": {},
   "source": [
    "# 4. Create your own Mesh"
   ]
  },
  {
   "cell_type": "markdown",
   "metadata": {},
   "source": [
    "# 4.1 Load the image"
   ]
  },
  {
   "cell_type": "code",
   "execution_count": null,
   "metadata": {},
   "outputs": [],
   "source": [
    "#read the image\n",
    "image_path = \"../data/dance.png\"\n",
    "img = cv2.imread(image_path, 1) \n",
    "\n",
    "# convert the image to grey scale\n",
    "imgrey = 255 - cv2.cvtColor(img, cv2.COLOR_BGR2GRAY)\n",
    "\n",
    "# show image\n",
    "plt.figure(figsize = (10, 10))\n",
    "plt.imshow(imgrey)\n",
    "plt.show()"
   ]
  },
  {
   "cell_type": "markdown",
   "metadata": {},
   "source": [
    "# 4.2 Make Flat Bottom Line"
   ]
  },
  {
   "cell_type": "code",
   "execution_count": null,
   "metadata": {},
   "outputs": [],
   "source": [
    "#cut from Y = maxX\n",
    "maxX = 940\n",
    "imcut = imgrey.copy()\n",
    "imcut[maxX : imcut.shape[0] + 1, :] = 0\n",
    "\n",
    "# show image\n",
    "plt.figure(figsize = (10, 10))\n",
    "plt.imshow(imcut)\n",
    "plt.show()"
   ]
  },
  {
   "cell_type": "markdown",
   "metadata": {},
   "source": [
    "# 4.3 Extract and Simplify the Boundary Curves"
   ]
  },
  {
   "cell_type": "markdown",
   "metadata": {},
   "source": [
    "To simplfy the boundary curves of the final mesh, we collapse the edge if its edge length is smaller than edge_length_tot."
   ]
  },
  {
   "cell_type": "code",
   "execution_count": null,
   "metadata": {},
   "outputs": [],
   "source": [
    "edge_length_tot = 10.0"
   ]
  },
  {
   "cell_type": "code",
   "execution_count": null,
   "metadata": {},
   "outputs": [],
   "source": [
    "# Extrac Boundary\n",
    "ret, thresh = cv2.threshold(imcut, 127, 255, 0)\n",
    "contours, hierarchy = cv2.findContours(thresh, cv2.RETR_TREE, cv2.CHAIN_APPROX_SIMPLE)\n",
    "plt.figure(figsize = (10, 10))\n",
    "imContour = np.zeros(imcut.shape)\n",
    "\n",
    "# Compute Point With Highest Y coordinate\n",
    "maxY = 0\n",
    "for k, _ in enumerate(contours):\n",
    "    current_points = contours[k][:, 0]\n",
    "    for pt in current_points:\n",
    "        maxY = max(pt[1], maxY)\n",
    "        \n",
    "boundary_points = []\n",
    "\n",
    "# draw countour\n",
    "for k, _ in enumerate(contours):\n",
    "    trimmed_points = []\n",
    "    current_points = contours[k][:, 0]\n",
    "    prev_pt = np.array(current_points[-1])\n",
    "    for pt in current_points:\n",
    "        curr_pt = np.array(pt)\n",
    "        if np.linalg.norm(prev_pt - curr_pt) > edge_length_tot or pt[1] == maxY:\n",
    "            prev_pt = curr_pt\n",
    "            trimmed_points.append([pt[0], pt[1]])\n",
    "            \n",
    "    contours[k] = np.array([trimmed_points])\n",
    "    if contours[k].shape[1] > 0:\n",
    "        imContour = cv2.drawContours(imContour, contours, k, (255, 255, 255), 6)\n",
    "        boundary_points.append(trimmed_points)\n",
    "\n",
    "        \n",
    "# scale boundary points\n",
    "scale = max(imcut.shape[0], imcut.shape[1])\n",
    "for pts in boundary_points:\n",
    "    for pt in pts:\n",
    "        pt[0] /= scale\n",
    "        pt[1] = (maxY - pt[1]) / scale\n",
    "        \n",
    "plt.imshow(imContour)"
   ]
  },
  {
   "cell_type": "markdown",
   "metadata": {},
   "source": [
    "# 4.4 Find Holes"
   ]
  },
  {
   "cell_type": "markdown",
   "metadata": {},
   "source": [
    "Some curves stored in boundary_points refers to holes in the mesh, we put their indices in to holes_indices array to compute the centroid of the holes for late remeshing. If the image has no hole, just set holes_indices to be empty list."
   ]
  },
  {
   "cell_type": "code",
   "execution_count": null,
   "metadata": {},
   "outputs": [],
   "source": [
    "holes_indices = [1]"
   ]
  },
  {
   "cell_type": "code",
   "execution_count": null,
   "metadata": {},
   "outputs": [],
   "source": [
    "Holes =  []\n",
    "for k in holes_indices:\n",
    "    ct = np.array([0, 0], dtype = float)\n",
    "    for pt in boundary_points[k]:\n",
    "        ct += np.array(pt, dtype = float)\n",
    "    ct /= len(boundary_points[k])\n",
    "    Holes.append([ct[0], ct[1]])"
   ]
  },
  {
   "cell_type": "markdown",
   "metadata": {},
   "source": [
    "# 4.5 Draw Mesh"
   ]
  },
  {
   "cell_type": "code",
   "execution_count": 9,
   "metadata": {},
   "outputs": [],
   "source": [
    "from geometry import compute_mesh_centroid, compute_center_support_line\n",
    "def draw_mesh(V, F):\n",
    "    shading = {\"flat\":True, # Flat or smooth shading of triangles\n",
    "           \"wireframe\":True, \"wire_width\": 0.03, \"wire_color\": \"black\", # Wireframe rendering\n",
    "           \"width\": 600, \"height\": 600, # Size of the viewer canvas\n",
    "           \"antialias\": True, # Antialising, might not work on all GPUs\n",
    "           \"scale\": 2.0, # Scaling of the model\n",
    "           \"side\": \"DoubleSide\", # FrontSide, BackSide or DoubleSide rendering of the triangles\n",
    "           \"colormap\": \"viridis\", \"normalize\": [None, None], # Colormap and normalization for colors\n",
    "           \"background\": \"#ffffff\", # Background color of the canvas\n",
    "           \"line_width\": 1.0, \"line_color\": \"black\", # Line properties of overlay lines\n",
    "           \"bbox\": False, # Enable plotting of bounding box\n",
    "           \"point_color\": \"red\", \"point_size\": 0.01 # Point properties of overlay points\n",
    "          }\n",
    "    p = mp.plot(V, F, shading=shading, return_plot=True)\n",
    "    center0 = np.array(compute_mesh_centroid(V, F))\n",
    "    center1 = center0.copy()\n",
    "    center1[1] = 0\n",
    "    vertices = np.vstack([center0, center1])\n",
    "    p.add_points(vertices, shading={\"point_color\": \"black\", \"point_size\": 0.1})\n",
    "    p.add_edges(vertices, np.array([[0, 1]]), shading={\"line_color\": \"black\", \"line_width\" : 0.5});"
   ]
  },
  {
   "cell_type": "code",
   "execution_count": 10,
   "metadata": {
    "pycharm": {
     "name": "#%%\n"
    }
   },
   "outputs": [
    {
     "ename": "NameError",
     "evalue": "name 'boundary_points' is not defined",
     "output_type": "error",
     "traceback": [
      "\u001b[0;31m---------------------------------------------------------------------------\u001b[0m",
      "\u001b[0;31mNameError\u001b[0m                                 Traceback (most recent call last)",
      "\u001b[0;32m/var/folders/zr/9df_syx90yvdyhsrsgyjwknc0000gn/T/ipykernel_82783/379952338.py\u001b[0m in \u001b[0;36m<module>\u001b[0;34m\u001b[0m\n\u001b[1;32m      1\u001b[0m \u001b[0;32mfrom\u001b[0m \u001b[0mutility\u001b[0m \u001b[0;32mimport\u001b[0m \u001b[0mtriangulate_mesh\u001b[0m\u001b[0;34m\u001b[0m\u001b[0;34m\u001b[0m\u001b[0m\n\u001b[0;32m----> 2\u001b[0;31m \u001b[0;34m[\u001b[0m\u001b[0mV\u001b[0m\u001b[0;34m,\u001b[0m \u001b[0mF\u001b[0m\u001b[0;34m]\u001b[0m \u001b[0;34m=\u001b[0m \u001b[0mtriangulate_mesh\u001b[0m\u001b[0;34m(\u001b[0m\u001b[0mboundary_points\u001b[0m\u001b[0;34m,\u001b[0m \u001b[0mHoles\u001b[0m\u001b[0;34m,\u001b[0m \u001b[0;36m0.001\u001b[0m\u001b[0;34m)\u001b[0m\u001b[0;34m\u001b[0m\u001b[0;34m\u001b[0m\u001b[0m\n\u001b[0m\u001b[1;32m      3\u001b[0m \u001b[0mdraw_mesh\u001b[0m\u001b[0;34m(\u001b[0m\u001b[0mV\u001b[0m\u001b[0;34m,\u001b[0m \u001b[0mF\u001b[0m\u001b[0;34m)\u001b[0m\u001b[0;34m\u001b[0m\u001b[0;34m\u001b[0m\u001b[0m\n",
      "\u001b[0;31mNameError\u001b[0m: name 'boundary_points' is not defined"
     ]
    }
   ],
   "source": [
    "from utility import triangulate_mesh\n",
    "[V, F] = triangulate_mesh(boundary_points, Holes, 0.001)\n",
    "draw_mesh(V, F)"
   ]
  },
  {
   "cell_type": "markdown",
   "metadata": {},
   "source": [
    "# 4.6 Save as SVG"
   ]
  },
  {
   "cell_type": "markdown",
   "metadata": {},
   "source": [
    "The following code is for outputing the svg files.\n",
    "\n",
    "The unit in the following svg file is mm. A point (100, 100) refers to a point (10 cm, 10 cm).\n",
    "\n",
    "You have to write code to generate slits by yourself to provide off-plane stability for your laser cutting model."
   ]
  },
  {
   "cell_type": "code",
   "execution_count": null,
   "metadata": {},
   "outputs": [],
   "source": [
    "dwg = svgwrite.Drawing('dance.svg')\n",
    "for Es in igl.boundary_facets(F):\n",
    "    p0 = V[Es[0]]\n",
    "    p1 = V[Es[1]]\n",
    "    dwg.add(dwg.line((p0[0], p0[1]), (p1[0], p1[1])))\n",
    "dwg.save()"
   ]
  },
  {
   "cell_type": "markdown",
   "metadata": {},
   "source": [
    "# 5. Design your own Mesh"
   ]
  },
  {
   "cell_type": "markdown",
   "metadata": {},
   "source": [
    "Please design 3 different meshes that are original not equilibrium.\n",
    "\n",
    "Try to optimize them to be equilibrium and report it in your pdf handin."
   ]
  }
 ],
 "metadata": {
  "kernelspec": {
   "display_name": "Python 3 (ipykernel)",
   "language": "python",
   "name": "python3"
  },
  "language_info": {
   "codemirror_mode": {
    "name": "ipython",
    "version": 3
   },
   "file_extension": ".py",
   "mimetype": "text/x-python",
   "name": "python",
   "nbconvert_exporter": "python",
   "pygments_lexer": "ipython3",
   "version": "3.9.7"
  }
 },
 "nbformat": 4,
 "nbformat_minor": 4
}
