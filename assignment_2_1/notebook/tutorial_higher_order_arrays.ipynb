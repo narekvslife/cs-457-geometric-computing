{
 "cells": [
  {
   "cell_type": "code",
   "execution_count": 1,
   "metadata": {},
   "outputs": [],
   "source": [
    "import numpy as np\n",
    "import time"
   ]
  },
  {
   "cell_type": "markdown",
   "metadata": {},
   "source": [
    "# Tutorial: Higher Order Array Manipulation\n",
    "\n",
    "For the sake of simplicity, we define $n$-th order tensors as arrays of dimension $n$. A $0$-th order array is a scalar, a $1$-st order array is a vector in $\\mathbb{R}^{d_1}$, and a $2$-nd order array is a matrix in $\\mathbb{R}^{d_1\\times d_2}$. Going further, a $n$-th order array is an element of $\\mathbb{R}^{d_1\\times...\\times d_n}$ for some dimensions $(d_i)_{i\\in[n]}$.\n",
    "\n",
    "## Declaration"
   ]
  },
  {
   "cell_type": "code",
   "execution_count": 2,
   "metadata": {},
   "outputs": [
    {
     "name": "stdout",
     "output_type": "stream",
     "text": [
      "The shape of A is (2, 3, 5)\n"
     ]
    }
   ],
   "source": [
    "# Declare a third order array \n",
    "d1, d2, d3 = 2, 3, 5\n",
    "A = np.random.rand(d1, d2, d3)\n",
    "\n",
    "print(\"The shape of A is {}\".format(A.shape))"
   ]
  },
  {
   "cell_type": "markdown",
   "metadata": {},
   "source": [
    "## Indexing\n",
    "\n",
    "Say we have a $3$-rd order array $\\mathbf{A}\\in\\mathbb{R}^{d_1\\times d_2\\times d_3}$. Indexing and slicing works as for lower order arrays:"
   ]
  },
  {
   "cell_type": "code",
   "execution_count": 3,
   "metadata": {},
   "outputs": [
    {
     "name": "stdout",
     "output_type": "stream",
     "text": [
      "A[0] has shape (3, 5)\n",
      "A[:, 1:, :] has shape (2, 2, 5)\n",
      "A[:, 1, 2:4] has shape (2, 2)\n"
     ]
    }
   ],
   "source": [
    "print(\"A[0] has shape {}\".format(A[0].shape))\n",
    "print(\"A[:, 1:, :] has shape {}\".format(A[:, 1:, :].shape))\n",
    "print(\"A[:, 1, 2:4] has shape {}\".format(A[:, 1, 2:4].shape))"
   ]
  },
  {
   "cell_type": "markdown",
   "metadata": {},
   "source": [
    "We can also use a different indexing array $\\mathbf{b}$ to index $\\mathbf{A}$. This indexing operates on the first dimension of $\\mathbf{A}$, meaning that if $\\mathbf{b}\\in\\mathbb{R}^{l_1\\times l_2}$, then `A[b]` will have shape $l_1\\times l_2\\times d_2\\times d_3$."
   ]
  },
  {
   "cell_type": "code",
   "execution_count": 4,
   "metadata": {},
   "outputs": [
    {
     "name": "stdout",
     "output_type": "stream",
     "text": [
      "If A has shape (2, 3, 5), b has shape (4,), then A[b] has shape (4, 3, 5).\n",
      "If A has shape (2, 3, 5), b has shape (2, 4), then A[b] has shape (2, 4, 3, 5).\n"
     ]
    }
   ],
   "source": [
    "b = np.array([0, 0, 1, 0])\n",
    "print(\"If A has shape {}, b has shape {}, then A[b] has shape {}.\".format(A.shape, b.shape, A[b].shape))\n",
    "\n",
    "b = np.array([[0, 0, 1, 0], [1, 1, 0, 1]])\n",
    "print(\"If A has shape {}, b has shape {}, then A[b] has shape {}.\".format(A.shape, b.shape, A[b].shape))"
   ]
  },
  {
   "cell_type": "markdown",
   "metadata": {},
   "source": [
    "... This works provided the indexing array $\\mathbf{b}$ has integer values comprised between $0$ and $d_{1}-1$ (included)."
   ]
  },
  {
   "cell_type": "code",
   "execution_count": 5,
   "metadata": {},
   "outputs": [
    {
     "name": "stdout",
     "output_type": "stream",
     "text": [
      "We have an out-of bound indexing: d_1=1 but max b=2\n",
      "The exception is: index 2 is out of bounds for axis 0 with size 2\n"
     ]
    }
   ],
   "source": [
    "try:\n",
    "    b = np.array([0, 0, 2, 0])\n",
    "    A[b]\n",
    "except Exception as e:\n",
    "    print(\"We have an out-of bound indexing: d_1=1 but max b=2\")\n",
    "    print(\"The exception is: {}\".format(e))"
   ]
  },
  {
   "cell_type": "markdown",
   "metadata": {},
   "source": [
    "## Operations\n",
    "\n",
    "Imagine now that we have a batch of $1000$ $d\\times d$ matrices: $(\\mathbf{a}_i)_{i\\in[1000]}$, for which we want to compute the trace. We could loop over the matrices and compute the traces separately."
   ]
  },
  {
   "cell_type": "code",
   "execution_count": 6,
   "metadata": {},
   "outputs": [
    {
     "name": "stdout",
     "output_type": "stream",
     "text": [
      "Elapsed time: 1.17e-02s.\n"
     ]
    }
   ],
   "source": [
    "d = 2\n",
    "\n",
    "ais    = [np.random.rand(d, d) for i in range(1000)]\n",
    "\n",
    "start  = time.time()\n",
    "traces = [np.trace(ai) for ai in ais]\n",
    "end    = time.time()\n",
    "\n",
    "print(\"Elapsed time: {:.2e}s.\".format(end - start))"
   ]
  },
  {
   "cell_type": "markdown",
   "metadata": {},
   "source": [
    "Alternatively, we could vectorize this operation using a three dimensional array $\\mathbf{A}\\in\\mathbb{R}^{1000\\times d\\times d}$ that contains the stacked matrices."
   ]
  },
  {
   "cell_type": "code",
   "execution_count": 7,
   "metadata": {},
   "outputs": [
    {
     "name": "stdout",
     "output_type": "stream",
     "text": [
      "A has shape (1000, 2, 2)\n",
      "Elapsed time: 6.13e-04s.\n"
     ]
    }
   ],
   "source": [
    "A = np.stack(ais, axis=0)\n",
    "\n",
    "print(\"A has shape {}\".format(A.shape))\n",
    "\n",
    "start  = time.time()\n",
    "traces = np.trace(A, axis1=1, axis2=2)\n",
    "end    = time.time()\n",
    "\n",
    "print(\"Elapsed time: {:.2e}s.\".format(end - start))"
   ]
  },
  {
   "cell_type": "markdown",
   "metadata": {},
   "source": [
    "And we reduced the computation time by an order of magnitude! A different option that we will use extensively during part 3 is to use [Einstein summation](https://en.wikipedia.org/wiki/Einstein_notation). For the traces computation this would be written: $\\mathbf{A}_{i,j,j}$. This can be done with Numpy with the method [`np.einsum`](https://numpy.org/doc/stable/reference/generated/numpy.einsum.html)."
   ]
  },
  {
   "cell_type": "code",
   "execution_count": 8,
   "metadata": {},
   "outputs": [
    {
     "name": "stdout",
     "output_type": "stream",
     "text": [
      "Elapsed time: 1.79e-03s.\n"
     ]
    }
   ],
   "source": [
    "start  = time.time()\n",
    "traces = np.einsum('ijj->i', A)\n",
    "end    = time.time()\n",
    "\n",
    "print(\"Elapsed time: {:.2e}s.\".format(end - start))"
   ]
  },
  {
   "cell_type": "markdown",
   "metadata": {},
   "source": [
    "As efficient as the trace method! Also, `np.einsum` is highly flexible. It can compute the transpose of a batch of arrays, or various kinds of matrix multiplications."
   ]
  },
  {
   "cell_type": "code",
   "execution_count": 9,
   "metadata": {},
   "outputs": [
    {
     "name": "stdout",
     "output_type": "stream",
     "text": [
      "A has shape (1000, 2, 3)\n",
      "A^T has shape (1000, 3, 2)\n"
     ]
    }
   ],
   "source": [
    "ais = [np.random.rand(2, 3) for i in range(1000)]\n",
    "\n",
    "# Transpose each stacked matrices\n",
    "A = np.stack(ais, axis=0)\n",
    "print(\"A has shape {}\".format(A.shape))\n",
    "AT = np.einsum('ijk -> ikj', A)\n",
    "print(\"A^T has shape {}\".format(AT.shape))"
   ]
  },
  {
   "cell_type": "markdown",
   "metadata": {},
   "source": [
    "Below we show how to compute $\\mathbf{a}_i^T\\mathbf{a}_i$ for some matrices $\\mathbf{a}_i\\in\\mathbb{R}^{2\\times 3}$ using `np.einsum`."
   ]
  },
  {
   "cell_type": "code",
   "execution_count": 10,
   "metadata": {},
   "outputs": [
    {
     "name": "stdout",
     "output_type": "stream",
     "text": [
      "A has shape (1000, 2, 3)\n",
      "Stacked ai^T.ai has shape (1000, 3, 3)\n"
     ]
    }
   ],
   "source": [
    "print(\"A has shape {}\".format(A.shape))\n",
    "product_As = np.einsum('ijk, ijn -> ikn', A, A)\n",
    "print(\"Stacked ai^T.ai has shape {}\".format(product_As.shape))"
   ]
  },
  {
   "cell_type": "markdown",
   "metadata": {},
   "source": [
    "To scale each $\\mathbf{a}_i$ by a weight $w_i$, we can still use `np.einsum`. Define the vector containing all the weights $\\mathbf{w}=(w_i)_i$, we have:"
   ]
  },
  {
   "cell_type": "code",
   "execution_count": 11,
   "metadata": {},
   "outputs": [
    {
     "name": "stdout",
     "output_type": "stream",
     "text": [
      "Weighted and stacked ai has shape (1000, 2, 3)\n"
     ]
    }
   ],
   "source": [
    "w = np.random.rand(A.shape[0])\n",
    "weighted_A = np.einsum('i, ijk -> ijk', w, A)\n",
    "print(\"Weighted and stacked ai has shape {}\".format(weighted_A.shape))"
   ]
  },
  {
   "cell_type": "code",
   "execution_count": 136,
   "metadata": {},
   "outputs": [
    {
     "data": {
      "text/plain": [
       "array([[[ 30,  36,  42],\n",
       "        [ 66,  81,  96],\n",
       "        [102, 126, 150]],\n",
       "\n",
       "       [[ 37,  44,  52],\n",
       "        [ 66,  81, 100],\n",
       "        [102, 126, 157]]])"
      ]
     },
     "execution_count": 136,
     "metadata": {},
     "output_type": "execute_result"
    }
   ],
   "source": [
    "import numpy as np\n",
    "\n",
    "a = np.array([[[1, 2, 3], \n",
    "               [4, 5, 6], \n",
    "               [7, 8, 9]],\n",
    "              [[1, 2, 4],\n",
    "               [4, 5, 6],\n",
    "               [7, 8, 9]]])\n",
    "\n",
    "\n",
    "# matrix multiplication\n",
    "np.einsum('ijk, ikn -> ijn', a, a)"
   ]
  },
  {
   "cell_type": "code",
   "execution_count": 132,
   "metadata": {},
   "outputs": [
    {
     "data": {
      "text/plain": [
       "array([[ 37,  44,  52],\n",
       "       [ 66,  81, 100],\n",
       "       [102, 126, 157]])"
      ]
     },
     "execution_count": 132,
     "metadata": {},
     "output_type": "execute_result"
    }
   ],
   "source": [
    "c = np.array([[1, 2, 4], \n",
    "              [4, 5, 6], \n",
    "              [7, 8, 9]])\n",
    "\n",
    "c @ c"
   ]
  },
  {
   "cell_type": "code",
   "execution_count": 134,
   "metadata": {},
   "outputs": [
    {
     "data": {
      "text/plain": [
       "array([[[ 66,  78,  90],\n",
       "        [ 78,  93, 108],\n",
       "        [ 90, 108, 126]],\n",
       "\n",
       "       [[ 66,  78,  91],\n",
       "        [ 78,  93, 110],\n",
       "        [ 91, 110, 133]]])"
      ]
     },
     "execution_count": 134,
     "metadata": {},
     "output_type": "execute_result"
    }
   ],
   "source": [
    "# transposed first matrix multiplication\n",
    "np.einsum('ijk, ijn -> ikn', a, a)"
   ]
  },
  {
   "cell_type": "code",
   "execution_count": 135,
   "metadata": {},
   "outputs": [
    {
     "data": {
      "text/plain": [
       "array([[ 66,  78,  91],\n",
       "       [ 78,  93, 110],\n",
       "       [ 91, 110, 133]])"
      ]
     },
     "execution_count": 135,
     "metadata": {},
     "output_type": "execute_result"
    }
   ],
   "source": [
    "c.T @ c"
   ]
  },
  {
   "cell_type": "code",
   "execution_count": null,
   "metadata": {},
   "outputs": [],
   "source": []
  }
 ],
 "metadata": {
  "kernelspec": {
   "display_name": "Python 3",
   "language": "python",
   "name": "python3"
  },
  "language_info": {
   "codemirror_mode": {
    "name": "ipython",
    "version": 3
   },
   "file_extension": ".py",
   "mimetype": "text/x-python",
   "name": "python",
   "nbconvert_exporter": "python",
   "pygments_lexer": "ipython3",
   "version": "3.8.8"
  },
  "toc": {
   "base_numbering": 1,
   "nav_menu": {},
   "number_sections": true,
   "sideBar": true,
   "skip_h1_title": false,
   "title_cell": "Table of Contents",
   "title_sidebar": "Contents",
   "toc_cell": false,
   "toc_position": {},
   "toc_section_display": true,
   "toc_window_display": false
  }
 },
 "nbformat": 4,
 "nbformat_minor": 4
}
