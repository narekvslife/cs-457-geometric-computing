{
 "cells": [
  {
   "cell_type": "markdown",
   "metadata": {},
   "source": [
    "# Description\n",
    "\n",
    "This notebook intends to gather all the functionalities you'll have to implement for assignment 2.3.\n",
    "\n",
    "# Load libraries"
   ]
  },
  {
   "cell_type": "code",
   "execution_count": 1,
   "metadata": {},
   "outputs": [],
   "source": [
    "import numpy as np\n",
    "import igl\n",
    "import meshplot as mp\n",
    "import time\n",
    "\n",
    "import sys as _sys\n",
    "_sys.path.append(\"../src\")\n",
    "from elasticsolid import *\n",
    "from elasticenergy import *\n",
    "from matplotlib import gridspec\n",
    "import matplotlib.pyplot as plt\n",
    "\n",
    "shadingOptions = {\n",
    "    \"flat\":True,\n",
    "    \"wireframe\":False,   \n",
    "}\n",
    "\n",
    "rot = np.array(\n",
    "    [[1, 0, 0 ],\n",
    "     [0, 0, 1],\n",
    "     [0, -1, 0 ]]\n",
    ")"
   ]
  },
  {
   "cell_type": "markdown",
   "metadata": {},
   "source": [
    "# Load mesh\n",
    "\n",
    "Several meshes are available for you to play with under `data/`: `ball.obj`, `dinosaur.obj`, and `beam.obj`. You can also uncomment the few commented lines below to manipulate a simple mesh made out of 2 tetrahedra."
   ]
  },
  {
   "cell_type": "code",
   "execution_count": 2,
   "metadata": {
    "scrolled": false
   },
   "outputs": [
    {
     "name": "stderr",
     "output_type": "stream",
     "text": [
      "/opt/homebrew/anaconda3/envs/gc_course_env/lib/python3.9/site-packages/jupyter_client/session.py:716: UserWarning: Message serialization failed with:\n",
      "Out of range float values are not JSON compliant\n",
      "Supporting this message is deprecated in jupyter-client 7, please make sure your message is JSON-compliant\n",
      "  content = self.pack(content)\n"
     ]
    },
    {
     "data": {
      "application/vnd.jupyter.widget-view+json": {
       "model_id": "a41e7de22c27421c99fd923504780fa9",
       "version_major": 2,
       "version_minor": 0
      },
      "text/plain": [
       "Renderer(camera=PerspectiveCamera(children=(DirectionalLight(color='white', intensity=0.6, position=(-1.987469…"
      ]
     },
     "metadata": {},
     "output_type": "display_data"
    }
   ],
   "source": [
    "v, _, _, t, _, _ = igl.read_obj(\"../data/dinosaur.obj\")\n",
    "# v, _, _, t, _, _ = igl.read_obj(\"../data/beam.obj\")\n",
    "\n",
    "# t = np.array([\n",
    "#         [0, 1, 2, 3],\n",
    "#         [1, 2, 3, 4]\n",
    "#     ])\n",
    "# v = np.array([\n",
    "#     [0., 0., 0.],\n",
    "#     [1., 0., 0.],\n",
    "#     [0., 1., 0.],\n",
    "#     [0., 0., 1.],\n",
    "#     [2/3, 2/3, 2/3]\n",
    "# ])\n",
    "\n",
    "be = igl.edges(igl.boundary_facets(t))\n",
    "e = igl.edges(t)\n",
    "\n",
    "aabb = np.max(v, axis=0) - np.min(v, axis=0)\n",
    "length_scale = np.mean(aabb)\n",
    "\n",
    "p = mp.plot(v @ rot.T, t, shading=shadingOptions)"
   ]
  },
  {
   "cell_type": "markdown",
   "metadata": {},
   "source": [
    "# Linear/Non-Linear Elastic Solid\n",
    "\n",
    "## Instantiation\n",
    "\n",
    "We first specify the elasticity model to use for the elastic solid, as well as pinned vertices, and volumetric forces."
   ]
  },
  {
   "cell_type": "code",
   "execution_count": 3,
   "metadata": {},
   "outputs": [],
   "source": [
    "rho     = 131  # [kg.m-3]\n",
    "young   = 3e8 # [Pa] \n",
    "poisson = 0.2\n",
    "force_mass = np.zeros(shape = (3,))\n",
    "force_mass[2] = - rho * 9.81\n",
    "\n",
    "# minX    = np.min(v[:, 0])\n",
    "# pin_idx = np.arange(v.shape[0])[v[:, 0] < minX + 0.2*aabb[0]]\n",
    "minZ    = np.min(v[:, 2])\n",
    "pin_idx = np.arange(v.shape[0])[v[:, 2] < minZ + 0.1*aabb[2]]\n",
    "\n",
    "# ee    = LinearElasticEnergy(young, poisson)\n",
    "ee    = NeoHookeanElasticEnergy(young, poisson)\n",
    "solid = ElasticSolid(v, t, ee, rho=rho, pin_idx=pin_idx, f_mass=force_mass)\n"
   ]
  },
  {
   "cell_type": "markdown",
   "metadata": {},
   "source": [
    "## Deform the mesh\n",
    "\n",
    "This should now involve elastic forces computation."
   ]
  },
  {
   "cell_type": "code",
   "execution_count": 4,
   "metadata": {
    "scrolled": false
   },
   "outputs": [
    {
     "data": {
      "application/vnd.jupyter.widget-view+json": {
       "model_id": "f016c47c38e7475c966dd340281010b9",
       "version_major": 2,
       "version_minor": 0
      },
      "text/plain": [
       "Renderer(camera=PerspectiveCamera(children=(DirectionalLight(color='white', intensity=0.6, position=(-3.974938…"
      ]
     },
     "metadata": {},
     "output_type": "display_data"
    },
    {
     "data": {
      "text/plain": [
       "3"
      ]
     },
     "execution_count": 4,
     "metadata": {},
     "output_type": "execute_result"
    }
   ],
   "source": [
    "v_def = v.copy()\n",
    "v_def[:, 0] *= 2.\n",
    "solid.update_def_shape(v_def)\n",
    "\n",
    "p = mp.plot(solid.v_def @ rot.T, solid.t, shading=shadingOptions)\n",
    "p.add_points(solid.v_def[solid.pin_idx, :] @ rot.T, shading={\"point_color\":\"black\", \"point_size\": 0.1 * length_scale})\n",
    "forcesScale = 2 * np.max(np.linalg.norm(solid.f_ext, axis=1))\n",
    "p.add_lines(solid.v_def @ rot.T, (solid.v_def + solid.f_ext / forcesScale) @ rot.T)\n",
    "p.add_edges(v @ rot.T, be, shading={\"line_color\": \"blue\"})\n"
   ]
  },
  {
   "cell_type": "markdown",
   "metadata": {},
   "source": [
    "## Find equilibrium\n",
    "\n",
    "We compare different methods: number of steps, computation time."
   ]
  },
  {
   "cell_type": "code",
   "execution_count": 5,
   "metadata": {},
   "outputs": [],
   "source": [
    "n_steps = 1000\n",
    "thresh  = 1.\n",
    "v_init = v.copy()"
   ]
  },
  {
   "cell_type": "markdown",
   "metadata": {},
   "source": [
    "## Gradient descent"
   ]
  },
  {
   "cell_type": "code",
   "execution_count": 6,
   "metadata": {},
   "outputs": [
    {
     "data": {
      "application/vnd.jupyter.widget-view+json": {
       "model_id": "ff07609d7b084c9e86f216f5e93f67d9",
       "version_major": 2,
       "version_minor": 0
      },
      "text/plain": [
       "Renderer(camera=PerspectiveCamera(children=(DirectionalLight(color='white', intensity=0.6, position=(-1.987832…"
      ]
     },
     "metadata": {},
     "output_type": "display_data"
    },
    {
     "data": {
      "text/plain": [
       "3"
      ]
     },
     "execution_count": 6,
     "metadata": {},
     "output_type": "execute_result"
    }
   ],
   "source": [
    "%run ../src/Utils.py\n",
    "\n",
    "report_GD = equilibrium_convergence_report_GD(solid, v_init, n_steps, 1e-8, thresh=thresh)\n",
    "energies_el_GD  = report_GD['energies_el']\n",
    "energies_ext_GD = report_GD['energies_ext']\n",
    "energy_GD       = energies_el_GD + energies_ext_GD\n",
    "residuals_GD    = report_GD['residuals']\n",
    "times_GD        = report_GD['times']\n",
    "idx_stop_GD     = report_GD['idx_stop']\n",
    "v_def_GD        = solid.v_def.copy()\n",
    "\n",
    "# Lastly, plot the resulting shape\n",
    "p = mp.plot(v_def_GD @ rot.T, solid.t, shading=shadingOptions)\n",
    "forcesScale = 2 * np.max(np.linalg.norm(solid.f_ext, axis=1))\n",
    "p.add_lines(v_def_GD @ rot.T, (solid.v_def + solid.f_ext / forcesScale) @ rot.T)\n",
    "p.add_points(v_def_GD[pin_idx, :] @ rot.T, shading={\"point_color\":\"black\", \"point_size\": 0.1 * length_scale})\n",
    "p.add_edges(v @ rot.T, be, shading={\"line_color\": \"blue\"})"
   ]
  },
  {
   "cell_type": "markdown",
   "metadata": {},
   "source": [
    "## BFGS"
   ]
  },
  {
   "cell_type": "code",
   "execution_count": 7,
   "metadata": {},
   "outputs": [
    {
     "data": {
      "application/vnd.jupyter.widget-view+json": {
       "model_id": "97ef28978f474b3c9280342140f95d2b",
       "version_major": 2,
       "version_minor": 0
      },
      "text/plain": [
       "Renderer(camera=PerspectiveCamera(children=(DirectionalLight(color='white', intensity=0.6, position=(-0.269779…"
      ]
     },
     "metadata": {},
     "output_type": "display_data"
    },
    {
     "data": {
      "text/plain": [
       "3"
      ]
     },
     "execution_count": 7,
     "metadata": {},
     "output_type": "execute_result"
    }
   ],
   "source": [
    "report_BFGS = equilibrium_convergence_report_BFGS(solid, v_init, n_steps, 1e-8, thresh=thresh)\n",
    "energies_el_BFGS  = report_BFGS['energies_el']\n",
    "energies_ext_BFGS = report_BFGS['energies_ext']\n",
    "energy_BFGS       = energies_el_BFGS + energies_ext_BFGS\n",
    "residuals_BFGS    = report_BFGS['residuals']\n",
    "times_BFGS        = report_BFGS['times']\n",
    "idx_stop_BFGS     = report_BFGS['idx_stop']\n",
    "v_def_BFGS        = solid.v_def.copy()\n",
    "\n",
    "# Lastly, plot the resulting shape\n",
    "p = mp.plot(v_def_BFGS @ rot.T, solid.t, shading=shadingOptions)\n",
    "forcesScale = 2 * np.max(np.linalg.norm(solid.f_ext, axis=1))\n",
    "p.add_lines(v_def_BFGS @ rot.T, (solid.v_def + solid.f_ext / forcesScale) @ rot.T)\n",
    "p.add_points(v_def_BFGS[pin_idx, :] @ rot.T, shading={\"point_color\":\"black\", \"point_size\": 0.1 * length_scale})\n",
    "p.add_edges(v @ rot.T, be, shading={\"line_color\": \"blue\"})"
   ]
  },
  {
   "cell_type": "markdown",
   "metadata": {},
   "source": [
    "## Newton-CG"
   ]
  },
  {
   "cell_type": "code",
   "execution_count": 8,
   "metadata": {},
   "outputs": [
    {
     "name": "stdout",
     "output_type": "stream",
     "text": [
      "7849400.307062433 -1650902.062207725\n",
      "634480.1519019629 -825451.0311038621\n",
      "Energy: -190970.87920189917 Force residual norm: 10618551.224932369 Line search Iters: 1\n",
      "310805.2614524532 -824070.5164306174\n",
      "Energy: -513265.2549781642 Force residual norm: 4912910.511589376 Line search Iters: 0\n",
      "252733.5463199386 -830607.4917185982\n",
      "Energy: -577873.9453986596 Force residual norm: 2354508.413963404 Line search Iters: 0\n",
      "233894.61534555387 -937787.450721799\n",
      "Energy: -703892.8353762452 Force residual norm: 1091998.461237155 Line search Iters: 0\n",
      "520962.61683944636 -1344565.1740744198\n",
      "Energy: -823602.5572349734 Force residual norm: 1503142.2331883314 Line search Iters: 0\n",
      "514075.86609853443 -1344524.563553485\n",
      "Energy: -830448.6974549507 Force residual norm: 718867.666148108 Line search Iters: 0\n",
      "510481.23249566247 -1344772.9524339333\n",
      "Energy: -834291.7199382707 Force residual norm: 349972.0054839555 Line search Iters: 0\n",
      "675908055.9123299 -6352578.75026501\n",
      "54206586.75924463 -3848675.8513494716\n",
      "4593761.277042835 -2596724.401891703\n",
      "1004683.4135463051 -1970748.6771628177\n",
      "Energy: -966065.2636165125 Force residual norm: 7607347.31245717 Line search Iters: 3\n",
      "848125.3081573858 -1968539.342762704\n",
      "Energy: -1120414.0346053182 Force residual norm: 3403113.015273089 Line search Iters: 0\n",
      "821010.8392275486 -1969161.357728493\n",
      "Energy: -1148150.5185009444 Force residual norm: 1596989.1401836732 Line search Iters: 0\n",
      "803531.9396656461 -1986135.516049863\n",
      "Energy: -1182603.576384217 Force residual norm: 764189.4518902372 Line search Iters: 0\n",
      "835242.7193855871 -2030749.8542124762\n",
      "Energy: -1195507.134826889 Force residual norm: 356440.0038736809 Line search Iters: 0\n",
      "460931279.47098994 -7545656.330659751\n",
      "36964966.82228576 -4788203.092436113\n",
      "3977323.397270634 -3409476.473324295\n",
      "1403334.636470796 -2720113.1637683855\n",
      "Energy: -1316778.5272975895 Force residual norm: 6088225.784038481 Line search Iters: 3\n",
      "1304895.6026441175 -2718511.2272119625\n",
      "Energy: -1413615.624567845 Force residual norm: 2693819.4510804866 Line search Iters: 0\n",
      "1288361.0488188672 -2719223.123551259\n",
      "Energy: -1430862.0747323916 Force residual norm: 1265517.4241297857 Line search Iters: 0\n",
      "1279153.7126909536 -2728005.357762811\n",
      "Energy: -1448851.6450718571 Force residual norm: 599965.0524355094 Line search Iters: 0\n",
      "1302494.4679576005 -2759128.647118164\n",
      "Energy: -1456634.1791605637 Force residual norm: 277281.6568521186 Line search Iters: 0\n",
      "64321369.53178255 -6485725.944489097\n",
      "6777730.564151398 -4622427.295803631\n",
      "2258229.5202761358 -3690777.9714608975\n",
      "1660308.013865591 -3224953.3092895313\n",
      "Energy: -1564645.2954239403 Force residual norm: 2055126.610960612 Line search Iters: 3\n",
      "1648891.955932347 -3224549.1903689373\n",
      "Energy: -1575657.2344365902 Force residual norm: 930793.7088431877 Line search Iters: 0\n",
      "1647339.7167801494 -3225163.270005299\n",
      "Energy: -1577823.5532251494 Force residual norm: 445529.67717429274 Line search Iters: 0\n",
      "1674261.3805118748 -3256703.8638906456\n",
      "Energy: -1582442.4833787708 Force residual norm: 219075.0998440935 Line search Iters: 0\n",
      "49740815.22961421 -6973920.15564969\n",
      "6195866.191425191 -5115312.009770168\n",
      "2609753.6455885554 -4186007.9368304065\n",
      "2052381.3569383074 -3721355.9003605265\n",
      "Energy: -1668974.543422219 Force residual norm: 1768237.9874627478 Line search Iters: 3\n",
      "2043903.1882673963 -3720953.831760302\n",
      "Energy: -1677050.643492906 Force residual norm: 783863.8360026436 Line search Iters: 0\n",
      "2042719.7145621516 -3721200.148531502\n",
      "Energy: -1678480.4339693505 Force residual norm: 330533.5940545878 Line search Iters: 0\n",
      "2043733.0544121186 -3723303.744996657\n",
      "Energy: -1679570.6905845385 Force residual norm: 165107.0611467559 Line search Iters: 0\n",
      "11294509.819134004 -6192443.18196566\n",
      "3561984.0429257466 -4957873.463481159\n",
      "2593073.8625468686 -4340588.604238908\n",
      "Energy: -1747514.7416920392 Force residual norm: 2688741.32485708 Line search Iters: 2\n",
      "2574859.414308437 -4340116.680391155\n",
      "Energy: -1765257.266082718 Force residual norm: 1340288.779166833 Line search Iters: 0\n",
      "2571271.8951673685 -4340461.422912108\n",
      "Energy: -1769189.5277447393 Force residual norm: 554063.9579538654 Line search Iters: 0\n",
      "2574758.6884922683 -4349333.469731944\n",
      "Energy: -1774574.7812396754 Force residual norm: 267233.5482657675 Line search Iters: 0\n",
      "2592240.596721389 -4368769.651611785\n",
      "Energy: -1776529.0548903965 Force residual norm: 127176.76798421632 Line search Iters: 0\n",
      "6457257.3080521645 -6305147.948841978\n",
      "3600370.6018923777 -5336958.800226882\n",
      "3031865.140978501 -4852864.225919334\n",
      "Energy: -1820999.084940833 Force residual norm: 1465948.2271421324 Line search Iters: 2\n",
      "3025937.9874652484 -4852584.161905918\n",
      "Energy: -1826646.1744406698 Force residual norm: 643843.8002515051 Line search Iters: 0\n",
      "3025330.608740221 -4852952.784215237\n",
      "Energy: -1827622.1754750162 Force residual norm: 292230.4259557984 Line search Iters: 0\n",
      "3027403.0947093107 -4856089.9590140665\n",
      "Energy: -1828686.8643047558 Force residual norm: 145245.26759643262 Line search Iters: 0\n",
      "4619296.55570695 -6163613.369925184\n",
      "3659117.2013862412 -5509851.664469626\n",
      "Energy: -1850734.4630833846 Force residual norm: 2389559.956633054 Line search Iters: 1\n",
      "3643735.9365626224 -5509428.621610518\n",
      "Energy: -1865692.6850478952 Force residual norm: 1055701.9904129535 Line search Iters: 0\n",
      "3641834.898447899 -5510102.103490174\n",
      "Energy: -1868267.2050422747 Force residual norm: 497219.2602913882 Line search Iters: 0\n",
      "3646590.9289124236 -5518552.621225974\n",
      "Energy: -1871961.69231355 Force residual norm: 229515.7051466193 Line search Iters: 0\n",
      "3651618.1445259284 -5524295.502296025\n",
      "Energy: -1872677.3577700965 Force residual norm: 106528.48756257776 Line search Iters: 0\n",
      "4307610.884424441 -6179793.371469167\n",
      "3968991.811831538 -5852044.4368825955\n",
      "Energy: -1883052.6250510574 Force residual norm: 530052.2847033454 Line search Iters: 1\n",
      "3968207.094391483 -5852006.37569563\n",
      "Energy: -1883799.281304147 Force residual norm: 248168.1156404074 Line search Iters: 0\n",
      "3969204.5012400113 -5853355.307039067\n",
      "Energy: -1884150.8057990558 Force residual norm: 107820.43351322351 Line search Iters: 0\n",
      "3975404.4851848697 -5859845.368783405\n",
      "Energy: -1884440.8835985353 Force residual norm: 52271.87808917549 Line search Iters: 0\n",
      "4365615.79363924 -6252936.6847279295\n",
      "Energy: -1887320.8910886897 Force residual norm: 770566.9725608513 Line search Iters: 0\n",
      "4364033.489406404 -6252812.500212293\n",
      "Energy: -1888779.010805889 Force residual norm: 383160.20051806496 Line search Iters: 0\n",
      "4363816.955552476 -6252906.683636967\n",
      "Energy: -1889089.7280844906 Force residual norm: 152605.22616418172 Line search Iters: 0\n",
      "4365220.274423747 -6254646.844017849\n",
      "Energy: -1889426.569594102 Force residual norm: 74213.32060187306 Line search Iters: 0\n",
      "4368127.913989917 -6257660.464372074\n",
      "Energy: -1889532.5503821569 Force residual norm: 35918.61181814652 Line search Iters: 0\n",
      "4377250.502126507 -6267186.525695937\n",
      "Energy: -1889936.0235694293 Force residual norm: 19190.248842586232 Line search Iters: 0\n",
      "4376582.404852644 -6266552.30278985\n",
      "Energy: -1889969.8979372066 Force residual norm: 8769.77945406554 Line search Iters: 0\n",
      "4380990.57150116 -6270975.033683668\n",
      "Energy: -1889984.4621825079 Force residual norm: 4066.217404186263 Line search Iters: 0\n",
      "4405612.804136431 -6295617.632047439\n",
      "Energy: -1890004.8279110081 Force residual norm: 3386.7735256133124 Line search Iters: 0\n",
      "4405610.964534525 -6295615.863955643\n",
      "Energy: -1890004.8994211182 Force residual norm: 1540.1301273044971 Line search Iters: 0\n",
      "4405630.07099748 -6295636.329273905\n",
      "Energy: -1890006.2582764244 Force residual norm: 758.7651810390503 Line search Iters: 0\n",
      "4405634.409482932 -6295640.675342652\n",
      "Energy: -1890006.2658597203 Force residual norm: 352.9475199807241 Line search Iters: 0\n",
      "4407803.418568856 -6297809.8281852575\n",
      "Energy: -1890006.4096164014 Force residual norm: 164.68877782761936 Line search Iters: 0\n",
      "4407802.850198045 -6297809.260332766\n",
      "Energy: -1890006.4101347206 Force residual norm: 78.98898643529006 Line search Iters: 0\n",
      "4407809.082506089 -6297815.492929493\n",
      "Energy: -1890006.4104234045 Force residual norm: 39.13252125788074 Line search Iters: 0\n",
      "4407807.372803033 -6297813.783265008\n",
      "Energy: -1890006.4104619743 Force residual norm: 19.36963701363744 Line search Iters: 0\n",
      "4407811.79125477 -6297818.201800525\n",
      "Energy: -1890006.4105457552 Force residual norm: 9.363837370076716 Line search Iters: 0\n"
     ]
    },
    {
     "name": "stdout",
     "output_type": "stream",
     "text": [
      "4407812.216767861 -6297818.627317833\n",
      "Energy: -1890006.4105499722 Force residual norm: 4.395177273119975 Line search Iters: 0\n",
      "4407812.444000629 -6297818.854552053\n",
      "Energy: -1890006.4105514241 Force residual norm: 2.125126785617408 Line search Iters: 0\n",
      "4407825.744188176 -6297832.15474484\n",
      "Energy: -1890006.4105566647 Force residual norm: 0.9671938334415406 Line search Iters: 0\n"
     ]
    },
    {
     "data": {
      "application/vnd.jupyter.widget-view+json": {
       "model_id": "2680ab4bea1244bd93ec617e1c24fee6",
       "version_major": 2,
       "version_minor": 0
      },
      "text/plain": [
       "Renderer(camera=PerspectiveCamera(children=(DirectionalLight(color='white', intensity=0.6, position=(0.0873091…"
      ]
     },
     "metadata": {},
     "output_type": "display_data"
    },
    {
     "data": {
      "text/plain": [
       "3"
      ]
     },
     "execution_count": 8,
     "metadata": {},
     "output_type": "execute_result"
    }
   ],
   "source": [
    "report_NCG = equilibrium_convergence_report_NCG(solid, v_init, n_steps, thresh=thresh)\n",
    "energies_el_NCG  = report_NCG['energies_el']\n",
    "energies_ext_NCG = report_NCG['energies_ext']\n",
    "energy_NCG       = energies_el_NCG + energies_ext_NCG\n",
    "residuals_NCG    = report_NCG['residuals']\n",
    "times_NCG        = report_NCG['times']\n",
    "idx_stop_NCG     = report_NCG['idx_stop']\n",
    "v_def_NCG        = solid.v_def.copy()\n",
    "\n",
    "# Lastly, plot the resulting shape\n",
    "p = mp.plot(v_def_NCG @ rot.T, solid.t, shading=shadingOptions)\n",
    "forcesScale = 2 * np.max(np.linalg.norm(solid.f_ext, axis=1))\n",
    "p.add_lines(v_def_NCG @ rot.T, (solid.v_def + solid.f_ext / forcesScale) @ rot.T)\n",
    "p.add_points(v_def_NCG[pin_idx, :] @ rot.T, shading={\"point_color\":\"black\", \"point_size\": 0.1 * length_scale})\n",
    "p.add_edges(v @ rot.T, be, shading={\"line_color\": \"blue\"})"
   ]
  },
  {
   "cell_type": "markdown",
   "metadata": {},
   "source": [
    "## Compare the different algorithms"
   ]
  },
  {
   "cell_type": "code",
   "execution_count": 9,
   "metadata": {},
   "outputs": [
    {
     "data": {
      "image/png": "[encoded data removed]",
      "text/plain": [
       "<Figure size 720x432 with 1 Axes>"
      ]
     },
     "metadata": {
      "needs_background": "light"
     },
     "output_type": "display_data"
    }
   ],
   "source": [
    "cmap   = plt.get_cmap('viridis')\n",
    "colors = cmap(np.linspace(0., 1., 4))\n",
    "\n",
    "gs = gridspec.GridSpec(nrows=1, ncols=1, width_ratios=[1], height_ratios=[1])\n",
    "fig = plt.figure(figsize=(10, 6))\n",
    "\n",
    "axTmp = plt.subplot(gs[0, 0])\n",
    "axTmp.plot(times_GD[:idx_stop_GD+1], residuals_GD[:idx_stop_GD+1], c=colors[0], \n",
    "           label=\"Gradient Descent ({:}its)\".format(idx_stop_GD))\n",
    "axTmp.plot(times_BFGS[:idx_stop_BFGS+1], residuals_BFGS[:idx_stop_BFGS+1], c=colors[1], \n",
    "           label=\"BFGS ({:}its)\".format(idx_stop_BFGS))\n",
    "axTmp.plot(times_NCG[:idx_stop_NCG+1], residuals_NCG[:idx_stop_NCG+1], c=colors[2], \n",
    "           label=\"Newton-CG ({:}its)\".format(idx_stop_NCG))\n",
    "y_lim = axTmp.get_ylim()\n",
    "axTmp.set_title(\"Residuals as optimization goes\", fontsize=14)\n",
    "axTmp.set_xlabel(\"Computation time [s]\", fontsize=12)\n",
    "axTmp.set_ylabel(\"Force residuals [N]\", fontsize=12)\n",
    "axTmp.set_ylim(y_lim)\n",
    "plt.legend(fontsize=12)\n",
    "plt.grid()\n",
    "plt.show()"
   ]
  },
  {
   "cell_type": "code",
   "execution_count": 10,
   "metadata": {},
   "outputs": [
    {
     "data": {
      "image/png": "[encoded data removed]",
      "text/plain": [
       "<Figure size 720x432 with 1 Axes>"
      ]
     },
     "metadata": {
      "needs_background": "light"
     },
     "output_type": "display_data"
    }
   ],
   "source": [
    "gs = gridspec.GridSpec(nrows=1, ncols=1, width_ratios=[1], height_ratios=[1])\n",
    "fig = plt.figure(figsize=(10, 6))\n",
    "\n",
    "axTmp = plt.subplot(gs[0, 0])\n",
    "axTmp.plot(times_GD[:idx_stop_GD+1], energy_GD[:idx_stop_GD+1], c=colors[0], \n",
    "           label=\"Gradient Descent ({:}its)\".format(idx_stop_GD))\n",
    "axTmp.plot(times_BFGS[:idx_stop_BFGS+1], energy_BFGS[:idx_stop_BFGS+1], c=colors[1], \n",
    "           label=\"BFGS ({:}its)\".format(idx_stop_BFGS))\n",
    "axTmp.plot(times_NCG[:idx_stop_NCG+1], energy_NCG[:idx_stop_NCG+1], c=colors[2], \n",
    "           label=\"Newton-CG ({:}its)\".format(idx_stop_NCG))\n",
    "y_lim = axTmp.get_ylim()\n",
    "axTmp.set_title(\"Total energy as optimization goes\", fontsize=14)\n",
    "axTmp.set_xlabel(\"Computation time [s]\", fontsize=12)\n",
    "axTmp.set_ylabel(\"Energy [J]\", fontsize=12)\n",
    "axTmp.set_ylim(y_lim)\n",
    "plt.legend(fontsize=12)\n",
    "plt.grid()\n",
    "plt.show()"
   ]
  },
  {
   "cell_type": "code",
   "execution_count": null,
   "metadata": {},
   "outputs": [],
   "source": []
  }
 ],
 "metadata": {
  "kernelspec": {
   "display_name": "Python 3 (ipykernel)",
   "language": "python",
   "name": "python3"
  },
  "language_info": {
   "codemirror_mode": {
    "name": "ipython",
    "version": 3
   },
   "file_extension": ".py",
   "mimetype": "text/x-python",
   "name": "python",
   "nbconvert_exporter": "python",
   "pygments_lexer": "ipython3",
   "version": "3.9.7"
  },
  "toc": {
   "base_numbering": 1,
   "nav_menu": {},
   "number_sections": true,
   "sideBar": true,
   "skip_h1_title": false,
   "title_cell": "Table of Contents",
   "title_sidebar": "Contents",
   "toc_cell": false,
   "toc_position": {},
   "toc_section_display": true,
   "toc_window_display": false
  }
 },
 "nbformat": 4,
 "nbformat_minor": 4
}
