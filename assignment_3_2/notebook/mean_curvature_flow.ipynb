{
 "cells": [
  {
   "cell_type": "code",
   "execution_count": 1,
   "id": "47a1752b-1db4-4004-9991-164388c0fd5d",
   "metadata": {},
   "outputs": [],
   "source": [
    "import numpy as np\n",
    "import meshplot as mp"
   ]
  },
  {
   "cell_type": "code",
   "execution_count": 2,
   "id": "0f4900fe-ce65-410a-b8d3-088e7e0804a5",
   "metadata": {},
   "outputs": [],
   "source": [
    "import igl\n",
    "import scipy as sp\n",
    "import numpy as np\n",
    "from meshplot import plot, subplot, interact\n",
    "import time\n",
    "import copy\n",
    "import matplotlib.pyplot as plt"
   ]
  },
  {
   "cell_type": "code",
   "execution_count": 3,
   "id": "9c83b851-d0aa-4fb0-9030-a285ca6b2b64",
   "metadata": {},
   "outputs": [],
   "source": [
    "import sys\n",
    "sys.path.append('../src')"
   ]
  },
  {
   "cell_type": "code",
   "execution_count": 4,
   "id": "43cb9cef-4959-4c9b-98ef-3a603f57bcb2",
   "metadata": {},
   "outputs": [],
   "source": [
    "import importlib, utils, laplacian_utils, mean_curvature_flow, remesher_helper\n",
    "importlib.reload(utils)\n",
    "importlib.reload(laplacian_utils)\n",
    "importlib.reload(mean_curvature_flow)\n",
    "importlib.reload(remesher_helper)\n",
    "from utils import parse_input_mesh, normalize_area, get_diverging_colors, remesh\n",
    "from mean_curvature_flow import MCF"
   ]
  },
  {
   "cell_type": "code",
   "execution_count": 5,
   "id": "2570faf5-9582-42ac-ace4-ca82c781a806",
   "metadata": {},
   "outputs": [],
   "source": [
    "epsilon1 = 5e-3  # relative change threshold\n",
    "epsilon2 = 1e-3  # absolute value of mean curvature\n",
    "mesh_color = np.array([0, 0.7, 1])"
   ]
  },
  {
   "cell_type": "markdown",
   "id": "e8d2f669-864f-4c8e-8519-5672862cc024",
   "metadata": {},
   "source": [
    "### Example 1"
   ]
  },
  {
   "cell_type": "code",
   "execution_count": 6,
   "id": "7a65d5c7-d774-4d5a-946c-69d730f19519",
   "metadata": {
    "tags": []
   },
   "outputs": [],
   "source": [
    "v1, f1, num_bdry_vx, num_intr_vx = parse_input_mesh(\"../data/two_rings_remesh.obj\")\n",
    "curr_mcf = MCF(num_bdry_vx, num_intr_vx)"
   ]
  },
  {
   "cell_type": "code",
   "execution_count": 7,
   "id": "a82f1487-56e3-4ecb-b71c-b3f59d4070be",
   "metadata": {
    "tags": []
   },
   "outputs": [
    {
     "name": "stderr",
     "output_type": "stream",
     "text": [
      "/opt/homebrew/anaconda3/envs/gc_course_env/lib/python3.9/site-packages/scipy/sparse/linalg/dsolve/linsolve.py:318: SparseEfficiencyWarning: splu requires CSC matrix format\n",
      "  warn('splu requires CSC matrix format', SparseEfficiencyWarning)\n",
      "/opt/homebrew/anaconda3/envs/gc_course_env/lib/python3.9/site-packages/scipy/sparse/linalg/dsolve/linsolve.py:215: SparseEfficiencyWarning: spsolve is more efficient when sparse b is in the CSC matrix format\n",
      "  warn('spsolve is more efficient when sparse b '\n"
     ]
    },
    {
     "name": "stdout",
     "output_type": "stream",
     "text": [
      "Insufficient improvement from the previous iteration!\n",
      "Run 16 iterations of unstable mean curvature flow\n",
      "took 87.82522487640381 seconds\n"
     ]
    }
   ],
   "source": [
    "start = time.time()\n",
    "vs1, average_mean_curvature_list1 = curr_mcf.run_mean_curvature_flow(v1, f1, 100, epsilon1, epsilon2)\n",
    "print(\"Run {} iterations of unstable mean curvature flow\".format(len(average_mean_curvature_list1)))\n",
    "print(\"took {} seconds\".format(time.time() - start))"
   ]
  },
  {
   "cell_type": "code",
   "execution_count": 8,
   "id": "652d1fa7-ad74-4c50-85c1-6a9e622b7ec8",
   "metadata": {},
   "outputs": [
    {
     "data": {
      "image/png": "[encoded data removed]",
      "text/plain": [
       "<Figure size 432x288 with 1 Axes>"
      ]
     },
     "metadata": {
      "needs_background": "light"
     },
     "output_type": "display_data"
    }
   ],
   "source": [
    "plt.plot(average_mean_curvature_list1)\n",
    "plt.savefig('average_mean_curvature_1')"
   ]
  },
  {
   "cell_type": "code",
   "execution_count": 9,
   "id": "14411752-e879-40f4-a3ce-928cfa2e888e",
   "metadata": {},
   "outputs": [
    {
     "name": "stderr",
     "output_type": "stream",
     "text": [
      "/opt/homebrew/anaconda3/envs/gc_course_env/lib/python3.9/site-packages/jupyter_client/session.py:716: UserWarning: Message serialization failed with:\n",
      "Out of range float values are not JSON compliant\n",
      "Supporting this message is deprecated in jupyter-client 7, please make sure your message is JSON-compliant\n",
      "  content = self.pack(content)\n"
     ]
    },
    {
     "data": {
      "application/vnd.jupyter.widget-view+json": {
       "model_id": "830b54be288943d9b37531fa85f88189",
       "version_major": 2,
       "version_minor": 0
      },
      "text/plain": [
       "Renderer(camera=PerspectiveCamera(aspect=1.5, children=(DirectionalLight(color='white', intensity=0.6, positio…"
      ]
     },
     "metadata": {},
     "output_type": "display_data"
    },
    {
     "data": {
      "application/vnd.jupyter.widget-view+json": {
       "model_id": "8798a902f7544f4b91fcc79501bd11cd",
       "version_major": 2,
       "version_minor": 0
      },
      "text/plain": [
       "interactive(children=(IntSlider(value=0, description='level', max=15), Output()), _dom_classes=('widget-intera…"
      ]
     },
     "metadata": {},
     "output_type": "display_data"
    }
   ],
   "source": [
    "p1 = mp.plot(vs1[-1], f1, shading={\"wireframe\": False,\"width\": 900, \"height\": 600}, return_plot=True, c=mesh_color)\n",
    "\n",
    "@interact(level=(0, len(vs1)-1))\n",
    "def mcf(level=0):\n",
    "    p1.update_object(vertices=vs1[level])"
   ]
  },
  {
   "cell_type": "code",
   "execution_count": 10,
   "id": "74a95792",
   "metadata": {},
   "outputs": [
    {
     "name": "stdout",
     "output_type": "stream",
     "text": [
      "Plot saved to file figure_1.html.\n"
     ]
    }
   ],
   "source": [
    "p1.update_object(vertices=vs1[len(vs1)-1])\n",
    "p1.save('figure_1')"
   ]
  },
  {
   "cell_type": "markdown",
   "id": "baf4bc95-68df-4a4b-967f-a2b555d4947c",
   "metadata": {},
   "source": [
    "### Example 2"
   ]
  },
  {
   "cell_type": "code",
   "execution_count": 5,
   "id": "147b044e-4491-4e45-bf91-df58f870429f",
   "metadata": {},
   "outputs": [],
   "source": [
    "epsilon1 = 5e-3  # relative change threshold\n",
    "epsilon2 = 1e-3  # absolute value of mean curvature\n",
    "v2, f2, num_bdry_vx, num_intr_vx = parse_input_mesh(\"../data/half_cube_remesh.obj\")\n",
    "curr_mcf = MCF(num_bdry_vx, num_intr_vx)"
   ]
  },
  {
   "cell_type": "code",
   "execution_count": 6,
   "id": "dbc8d3df-ac70-4c75-a6e7-d624595d5a59",
   "metadata": {},
   "outputs": [
    {
     "ename": "NameError",
     "evalue": "name 'L' is not defined",
     "output_type": "error",
     "traceback": [
      "\u001b[0;31m---------------------------------------------------------------------------\u001b[0m",
      "\u001b[0;31mNameError\u001b[0m                                 Traceback (most recent call last)",
      "\u001b[0;32m/var/folders/zr/9df_syx90yvdyhsrsgyjwknc0000gn/T/ipykernel_54230/972859341.py\u001b[0m in \u001b[0;36m<module>\u001b[0;34m\u001b[0m\n\u001b[1;32m      1\u001b[0m \u001b[0mstart\u001b[0m \u001b[0;34m=\u001b[0m \u001b[0mtime\u001b[0m\u001b[0;34m.\u001b[0m\u001b[0mtime\u001b[0m\u001b[0;34m(\u001b[0m\u001b[0;34m)\u001b[0m\u001b[0;34m\u001b[0m\u001b[0;34m\u001b[0m\u001b[0m\n\u001b[0;32m----> 2\u001b[0;31m \u001b[0mvs2\u001b[0m\u001b[0;34m,\u001b[0m \u001b[0maverage_mean_curvature_list2\u001b[0m \u001b[0;34m=\u001b[0m \u001b[0mcurr_mcf\u001b[0m\u001b[0;34m.\u001b[0m\u001b[0mrun_mean_curvature_flow\u001b[0m\u001b[0;34m(\u001b[0m\u001b[0mv2\u001b[0m\u001b[0;34m,\u001b[0m \u001b[0mf2\u001b[0m\u001b[0;34m,\u001b[0m \u001b[0;36m1000\u001b[0m\u001b[0;34m,\u001b[0m \u001b[0mepsilon1\u001b[0m\u001b[0;34m,\u001b[0m \u001b[0mepsilon2\u001b[0m\u001b[0;34m)\u001b[0m\u001b[0;34m\u001b[0m\u001b[0;34m\u001b[0m\u001b[0m\n\u001b[0m\u001b[1;32m      3\u001b[0m \u001b[0mprint\u001b[0m\u001b[0;34m(\u001b[0m\u001b[0;34m\"Run {} iterations of unstable mean curvature flow\"\u001b[0m\u001b[0;34m.\u001b[0m\u001b[0mformat\u001b[0m\u001b[0;34m(\u001b[0m\u001b[0mlen\u001b[0m\u001b[0;34m(\u001b[0m\u001b[0maverage_mean_curvature_list2\u001b[0m\u001b[0;34m)\u001b[0m\u001b[0;34m)\u001b[0m\u001b[0;34m)\u001b[0m\u001b[0;34m\u001b[0m\u001b[0;34m\u001b[0m\u001b[0m\n\u001b[1;32m      4\u001b[0m \u001b[0mprint\u001b[0m\u001b[0;34m(\u001b[0m\u001b[0;34m\"took {} seconds\"\u001b[0m\u001b[0;34m.\u001b[0m\u001b[0mformat\u001b[0m\u001b[0;34m(\u001b[0m\u001b[0mtime\u001b[0m\u001b[0;34m.\u001b[0m\u001b[0mtime\u001b[0m\u001b[0;34m(\u001b[0m\u001b[0;34m)\u001b[0m \u001b[0;34m-\u001b[0m \u001b[0mstart\u001b[0m\u001b[0;34m)\u001b[0m\u001b[0;34m)\u001b[0m\u001b[0;34m\u001b[0m\u001b[0;34m\u001b[0m\u001b[0m\n",
      "\u001b[0;32m~/epfl/1_year/geometric_computing/cs457-2021-narekvslife/assignment_3_2/notebook/../src/mean_curvature_flow.py\u001b[0m in \u001b[0;36mrun_mean_curvature_flow\u001b[0;34m(self, v, f, max_iter, epsilon1, epsilon2)\u001b[0m\n\u001b[1;32m     87\u001b[0m         '''\n\u001b[1;32m     88\u001b[0m \u001b[0;34m\u001b[0m\u001b[0m\n\u001b[0;32m---> 89\u001b[0;31m         \u001b[0mself\u001b[0m\u001b[0;34m.\u001b[0m\u001b[0mupdate_system\u001b[0m\u001b[0;34m(\u001b[0m\u001b[0mv\u001b[0m\u001b[0;34m,\u001b[0m \u001b[0mf\u001b[0m\u001b[0;34m)\u001b[0m\u001b[0;34m\u001b[0m\u001b[0;34m\u001b[0m\u001b[0m\n\u001b[0m\u001b[1;32m     90\u001b[0m \u001b[0;34m\u001b[0m\u001b[0m\n\u001b[1;32m     91\u001b[0m         \u001b[0mvs\u001b[0m \u001b[0;34m=\u001b[0m \u001b[0;34m[\u001b[0m\u001b[0mcopy\u001b[0m\u001b[0;34m.\u001b[0m\u001b[0mdeepcopy\u001b[0m\u001b[0;34m(\u001b[0m\u001b[0mv\u001b[0m\u001b[0;34m)\u001b[0m\u001b[0;34m]\u001b[0m\u001b[0;34m\u001b[0m\u001b[0;34m\u001b[0m\u001b[0m\n",
      "\u001b[0;32m~/epfl/1_year/geometric_computing/cs457-2021-narekvslife/assignment_3_2/notebook/../src/mean_curvature_flow.py\u001b[0m in \u001b[0;36mupdate_system\u001b[0;34m(self, v, f)\u001b[0m\n\u001b[1;32m     34\u001b[0m         '''\n\u001b[1;32m     35\u001b[0m         \u001b[0mself\u001b[0m\u001b[0;34m.\u001b[0m\u001b[0mM\u001b[0m \u001b[0;34m=\u001b[0m \u001b[0mlaplacian_utils\u001b[0m\u001b[0;34m.\u001b[0m\u001b[0mcompute_mass_matrix\u001b[0m\u001b[0;34m(\u001b[0m\u001b[0mv\u001b[0m\u001b[0;34m,\u001b[0m \u001b[0mf\u001b[0m\u001b[0;34m)\u001b[0m\u001b[0;34m\u001b[0m\u001b[0;34m\u001b[0m\u001b[0m\n\u001b[0;32m---> 36\u001b[0;31m         \u001b[0mself\u001b[0m\u001b[0;34m.\u001b[0m\u001b[0mL\u001b[0m \u001b[0;34m=\u001b[0m \u001b[0mlaplacian_utils\u001b[0m\u001b[0;34m.\u001b[0m\u001b[0mcompute_laplacian_matrix\u001b[0m\u001b[0;34m(\u001b[0m\u001b[0mv\u001b[0m\u001b[0;34m,\u001b[0m \u001b[0mf\u001b[0m\u001b[0;34m)\u001b[0m\u001b[0;34m\u001b[0m\u001b[0;34m\u001b[0m\u001b[0m\n\u001b[0m\u001b[1;32m     37\u001b[0m \u001b[0;34m\u001b[0m\u001b[0m\n\u001b[1;32m     38\u001b[0m         \u001b[0mM_inverse\u001b[0m \u001b[0;34m=\u001b[0m \u001b[0msp\u001b[0m\u001b[0;34m.\u001b[0m\u001b[0msparse\u001b[0m\u001b[0;34m.\u001b[0m\u001b[0mdiags\u001b[0m\u001b[0;34m(\u001b[0m\u001b[0;36m1\u001b[0m \u001b[0;34m/\u001b[0m \u001b[0mself\u001b[0m\u001b[0;34m.\u001b[0m\u001b[0mM\u001b[0m\u001b[0;34m.\u001b[0m\u001b[0mdiagonal\u001b[0m\u001b[0;34m(\u001b[0m\u001b[0;34m)\u001b[0m\u001b[0;34m)\u001b[0m\u001b[0;34m\u001b[0m\u001b[0;34m\u001b[0m\u001b[0m\n",
      "\u001b[0;32m~/epfl/1_year/geometric_computing/cs457-2021-narekvslife/assignment_3_2/notebook/../src/laplacian_utils.py\u001b[0m in \u001b[0;36mcompute_laplacian_matrix\u001b[0;34m(V, F)\u001b[0m\n\u001b[1;32m     63\u001b[0m     '''\n\u001b[1;32m     64\u001b[0m \u001b[0;34m\u001b[0m\u001b[0m\n\u001b[0;32m---> 65\u001b[0;31m     \u001b[0;32mreturn\u001b[0m \u001b[0mL\u001b[0m\u001b[0;34m\u001b[0m\u001b[0;34m\u001b[0m\u001b[0m\n\u001b[0m",
      "\u001b[0;31mNameError\u001b[0m: name 'L' is not defined"
     ]
    }
   ],
   "source": [
    "start = time.time()\n",
    "vs2, average_mean_curvature_list2 = curr_mcf.run_mean_curvature_flow(v2, f2, 1000, epsilon1, epsilon2)\n",
    "print(\"Run {} iterations of unstable mean curvature flow\".format(len(average_mean_curvature_list2)))\n",
    "print(\"took {} seconds\".format(time.time() - start))"
   ]
  },
  {
   "cell_type": "code",
   "execution_count": 13,
   "id": "87c6c46b-36e4-4206-96da-b3f10d897387",
   "metadata": {},
   "outputs": [
    {
     "data": {
      "image/png": "[encoded data removed]",
      "text/plain": [
       "<Figure size 432x288 with 1 Axes>"
      ]
     },
     "metadata": {
      "needs_background": "light"
     },
     "output_type": "display_data"
    }
   ],
   "source": [
    "plt.plot(average_mean_curvature_list2)\n",
    "plt.savefig('average_mean_curvature_2')"
   ]
  },
  {
   "cell_type": "code",
   "execution_count": 14,
   "id": "db07878e-9438-413d-9eb5-a2ffb8f02118",
   "metadata": {},
   "outputs": [
    {
     "data": {
      "application/vnd.jupyter.widget-view+json": {
       "model_id": "864ca25574924b3893993d03335c0658",
       "version_major": 2,
       "version_minor": 0
      },
      "text/plain": [
       "Renderer(camera=PerspectiveCamera(children=(DirectionalLight(color='white', intensity=0.6, position=(0.0, -0.0…"
      ]
     },
     "metadata": {},
     "output_type": "display_data"
    },
    {
     "data": {
      "application/vnd.jupyter.widget-view+json": {
       "model_id": "25b9c64636a642bea4da3ab570964a19",
       "version_major": 2,
       "version_minor": 0
      },
      "text/plain": [
       "interactive(children=(IntSlider(value=0, description='level', max=9), Output()), _dom_classes=('widget-interac…"
      ]
     },
     "metadata": {},
     "output_type": "display_data"
    }
   ],
   "source": [
    "p2 = mp.plot(vs2[0], f2, shading={\"wireframe\": False, \"flat\": True}, c=mesh_color)\n",
    "\n",
    "@interact(level=(0, len(vs2)-2))\n",
    "def mcf(level=0):\n",
    "    p2.update_object(vertices=vs2[level])"
   ]
  },
  {
   "cell_type": "code",
   "execution_count": 15,
   "id": "b7afd80f",
   "metadata": {},
   "outputs": [
    {
     "name": "stdout",
     "output_type": "stream",
     "text": [
      "Plot saved to file figure_2.html.\n"
     ]
    }
   ],
   "source": [
    "p2.update_object(vertices=vs2[len(vs2)-2])\n",
    "p2.save('figure_2')"
   ]
  },
  {
   "cell_type": "markdown",
   "id": "613b0257-40c3-4f8f-8840-ea9dccccefa9",
   "metadata": {},
   "source": [
    "### Example 3"
   ]
  },
  {
   "cell_type": "code",
   "execution_count": 23,
   "id": "ddd60020-bc75-4984-937f-ab30359b559c",
   "metadata": {},
   "outputs": [],
   "source": [
    "epsilon1 = 5e-4  # relative change threshold\n",
    "epsilon2 = 1e-3  # absolute value of mean curvature\n",
    "v3, f3, num_bdry_vx, num_intr_vx = parse_input_mesh(\"../data/cube_remesh.obj\")\n",
    "curr_mcf = MCF(num_bdry_vx, num_intr_vx)"
   ]
  },
  {
   "cell_type": "code",
   "execution_count": 24,
   "id": "661c1cfb-3ac6-434a-b385-a94be86f2802",
   "metadata": {},
   "outputs": [
    {
     "name": "stdout",
     "output_type": "stream",
     "text": [
      "Insufficient improvement from the previous iteration!\n",
      "Run 13 iterations of unstable mean curvature flow\n",
      "took 235.2695710659027 seconds\n"
     ]
    }
   ],
   "source": [
    "start = time.time()\n",
    "vs3, average_mean_curvature_list3 = curr_mcf.run_mean_curvature_flow(v3, f3, 1000, epsilon1, epsilon2)\n",
    "print(\"Run {} iterations of unstable mean curvature flow\".format(len(average_mean_curvature_list3)))\n",
    "print(\"took {} seconds\".format(time.time() - start))"
   ]
  },
  {
   "cell_type": "code",
   "execution_count": 25,
   "id": "06d71f4a-214a-4fbc-84ee-aad174ac104f",
   "metadata": {},
   "outputs": [
    {
     "data": {
      "image/png": "[encoded data removed]",
      "text/plain": [
       "<Figure size 432x288 with 1 Axes>"
      ]
     },
     "metadata": {
      "needs_background": "light"
     },
     "output_type": "display_data"
    }
   ],
   "source": [
    "plt.plot(average_mean_curvature_list3)\n",
    "plt.savefig('average_mean_curvature_3')"
   ]
  },
  {
   "cell_type": "code",
   "execution_count": 31,
   "id": "4e3faeb6-3f38-43d1-a4a0-047b62e11bf3",
   "metadata": {},
   "outputs": [
    {
     "name": "stderr",
     "output_type": "stream",
     "text": [
      "/opt/homebrew/anaconda3/envs/gc_course_env/lib/python3.9/site-packages/jupyter_client/session.py:716: UserWarning: Message serialization failed with:\n",
      "Out of range float values are not JSON compliant\n",
      "Supporting this message is deprecated in jupyter-client 7, please make sure your message is JSON-compliant\n",
      "  content = self.pack(content)\n"
     ]
    },
    {
     "data": {
      "application/vnd.jupyter.widget-view+json": {
       "model_id": "94f7095b0c94475f87f36f4a2406f6c6",
       "version_major": 2,
       "version_minor": 0
      },
      "text/plain": [
       "Renderer(camera=PerspectiveCamera(children=(DirectionalLight(color='white', intensity=0.6, position=(0.0, 0.0,…"
      ]
     },
     "metadata": {},
     "output_type": "display_data"
    },
    {
     "data": {
      "application/vnd.jupyter.widget-view+json": {
       "model_id": "84163d67d76e4ae9adf38ffc82ed133f",
       "version_major": 2,
       "version_minor": 0
      },
      "text/plain": [
       "interactive(children=(IntSlider(value=0, description='level', max=11), Output()), _dom_classes=('widget-intera…"
      ]
     },
     "metadata": {},
     "output_type": "display_data"
    }
   ],
   "source": [
    "p3 = mp.plot(vs3[-1], f3, shading={\"wireframe\": False, \"flat\": True}, c=mesh_color)\n",
    "\n",
    "@interact(level=(0, len(vs3)-2))\n",
    "def mcf(level=0):\n",
    "    p3.update_object(vertices=vs3[level])"
   ]
  },
  {
   "cell_type": "code",
   "execution_count": 39,
   "id": "7a523e22",
   "metadata": {},
   "outputs": [
    {
     "name": "stdout",
     "output_type": "stream",
     "text": [
      "Plot saved to file figure_3.html.\n"
     ]
    }
   ],
   "source": [
    "p3.update_object(vertices=vs3[len(vs3)-2])\n",
    "p3.save('figure_3')"
   ]
  },
  {
   "cell_type": "code",
   "execution_count": 37,
   "id": "0224167c",
   "metadata": {},
   "outputs": [
    {
     "data": {
      "text/plain": [
       "13"
      ]
     },
     "execution_count": 37,
     "metadata": {},
     "output_type": "execute_result"
    }
   ],
   "source": [
    "len(vs3)"
   ]
  },
  {
   "cell_type": "markdown",
   "id": "d92f7eea-e7f0-4a92-b557-21637eb7f939",
   "metadata": {},
   "source": [
    "## Your Own Minimal Surface!"
   ]
  },
  {
   "cell_type": "markdown",
   "id": "242feed4-775d-4c68-aadb-707382dde2f5",
   "metadata": {},
   "source": [
    "### Visualize your blender output\n"
   ]
  },
  {
   "cell_type": "code",
   "execution_count": null,
   "id": "105532b3-69ab-4835-9768-5a03df5051af",
   "metadata": {},
   "outputs": [],
   "source": [
    "blender_input_filename = \"\""
   ]
  },
  {
   "cell_type": "code",
   "execution_count": null,
   "id": "c9e2c901-d3f9-4a2f-bb3b-27a8be7b2311",
   "metadata": {},
   "outputs": [],
   "source": [
    "v,f = igl.read_triangle_mesh(blender_input_filename)\n",
    "p1 = plot(v, f, shading={\"wireframe\": True,\"width\": 900, \"height\": 600}, return_plot=True, c=mesh_color)"
   ]
  },
  {
   "cell_type": "markdown",
   "id": "264e0ee7-8a7d-44b0-8221-fc15b38ce77e",
   "metadata": {},
   "source": [
    "### Remesh"
   ]
  },
  {
   "cell_type": "markdown",
   "id": "b6905f01-bc8b-4421-b2fb-5fa2b0b79a90",
   "metadata": {},
   "source": [
    "The input should be a triangle mesh or a quad mesh. This might takes a while depends on your design. You can adjust the `mesh_size` parameter in the `remesh` function."
   ]
  },
  {
   "cell_type": "code",
   "execution_count": null,
   "id": "4ba2345b-dac3-45e6-a28e-123929f70b93",
   "metadata": {
    "scrolled": true,
    "tags": []
   },
   "outputs": [],
   "source": [
    "remesh_output_name = \"\"\n",
    "remesh(blender_input_filename, remesh_output_name)"
   ]
  },
  {
   "cell_type": "code",
   "execution_count": null,
   "id": "245e2f45-c1ee-4f9f-86cd-e7fd9a0404de",
   "metadata": {},
   "outputs": [],
   "source": [
    "v,f = igl.read_triangle_mesh(remesh_output_name)\n",
    "p2 = plot(v, f, shading={\"wireframe\": True,\"width\": 900, \"height\": 600}, return_plot=True, c=mesh_color)"
   ]
  },
  {
   "cell_type": "markdown",
   "id": "117e73d7-f291-4aa1-b783-cf8e2ae70a21",
   "metadata": {},
   "source": [
    "### Run optimization"
   ]
  },
  {
   "cell_type": "code",
   "execution_count": null,
   "id": "632ea182-feb9-46b0-b2b5-83b32e65f9b7",
   "metadata": {},
   "outputs": [],
   "source": []
  }
 ],
 "metadata": {
  "kernelspec": {
   "display_name": "Python 3 (ipykernel)",
   "language": "python",
   "name": "python3"
  },
  "language_info": {
   "codemirror_mode": {
    "name": "ipython",
    "version": 3
   },
   "file_extension": ".py",
   "mimetype": "text/x-python",
   "name": "python",
   "nbconvert_exporter": "python",
   "pygments_lexer": "ipython3",
   "version": "3.9.7"
  }
 },
 "nbformat": 4,
 "nbformat_minor": 5
}
