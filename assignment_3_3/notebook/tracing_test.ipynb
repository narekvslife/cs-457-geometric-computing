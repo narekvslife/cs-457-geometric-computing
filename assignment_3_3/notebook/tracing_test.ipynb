{
 "cells": [
  {
   "cell_type": "code",
   "execution_count": 1,
   "metadata": {},
   "outputs": [],
   "source": [
    "import numpy as np\n",
    "from meshplot import plot"
   ]
  },
  {
   "cell_type": "code",
   "execution_count": 2,
   "metadata": {},
   "outputs": [],
   "source": [
    "import sys\n",
    "sys.path.append('../src')"
   ]
  },
  {
   "cell_type": "code",
   "execution_count": 3,
   "metadata": {},
   "outputs": [],
   "source": [
    "import importlib, tracer_helper, tracer_utils\n",
    "importlib.reload(tracer_helper)\n",
    "importlib.reload(tracer_utils)\n",
    "from tracer_utils import asymptotic_path\n",
    "from tracer_helper import Mesh"
   ]
  },
  {
   "cell_type": "markdown",
   "metadata": {},
   "source": [
    "# Example\n",
    "Build mesh from file"
   ]
  },
  {
   "cell_type": "code",
   "execution_count": 4,
   "metadata": {},
   "outputs": [
    {
     "name": "stderr",
     "output_type": "stream",
     "text": [
      "/opt/homebrew/anaconda3/envs/gc_course_env/lib/python3.9/site-packages/jupyter_client/session.py:716: UserWarning: Message serialization failed with:\n",
      "Out of range float values are not JSON compliant\n",
      "Supporting this message is deprecated in jupyter-client 7, please make sure your message is JSON-compliant\n",
      "  content = self.pack(content)\n"
     ]
    },
    {
     "data": {
      "application/vnd.jupyter.widget-view+json": {
       "model_id": "f17197f9a09d4d77a16e0edd03d6a490",
       "version_major": 2,
       "version_minor": 0
      },
      "text/plain": [
       "Renderer(camera=PerspectiveCamera(aspect=1.5, children=(DirectionalLight(color='white', intensity=0.6, positio…"
      ]
     },
     "metadata": {},
     "output_type": "display_data"
    }
   ],
   "source": [
    "mesh = Mesh(\"../data/Model01.obj\")\n",
    "p = plot(mesh.V, mesh.F, shading={\"wireframe\": True,\"width\": 900, \"height\": 600}, return_plot=True, c=np.array([0,0.7,1]))"
   ]
  },
  {
   "cell_type": "markdown",
   "metadata": {},
   "source": [
    "### Trace first asymptotic curve\n",
    "Use principal directions V1"
   ]
  },
  {
   "cell_type": "code",
   "execution_count": 5,
   "metadata": {},
   "outputs": [],
   "source": [
    "# Set tracing parameters\n",
    "num_steps = 1000\n",
    "step_size = 1e-6\n",
    "num_neighbors = 4\n",
    "first_principal_direction = False\n",
    "\n",
    "# Pre-selection of vertices\n",
    "idxA = [167,173,178,146,159,291,49,40,254,57,15,65,268,341,283]\n",
    "# Tracing\n",
    "for idx in idxA:\n",
    "    P, A, PP = asymptotic_path(idx, mesh, num_steps, step_size, first_principal_direction, num_neighbors)\n",
    "\n",
    "    # Plot starting vertex\n",
    "    p.add_points(np.array([mesh.V[idx]]), shading={\"point_size\": 0.7, \"point_color\": \"black\"})\n",
    "    # Plot edge-points shaping the asymptotic path\n",
    "    p.add_points(P, shading={\"point_size\": 0.2,\"point_color\": \"white\"})\n",
    "    # Plot asymptotic curve\n",
    "    if(len(P)>1): \n",
    "        p.add_lines(P[:-1], P[1:], shading={\"line_color\": \"white\"})"
   ]
  },
  {
   "cell_type": "markdown",
   "metadata": {},
   "source": [
    "### Trace second asymptotic curve\n",
    "Use principal directions V2"
   ]
  },
  {
   "cell_type": "code",
   "execution_count": 6,
   "metadata": {},
   "outputs": [],
   "source": [
    "# Set tracing parameters\n",
    "num_steps = 1000\n",
    "step_size = 1e-6\n",
    "num_neighbors = 4\n",
    "first_principal_direction = True\n",
    "\n",
    "# Pre-selection of vertices\n",
    "idxB = [119,203,188,129,95,66,308,298,290,282,335,143,81,73,33]\n",
    "# Tracing\n",
    "for idx in idxB:\n",
    "    P, A, PP = asymptotic_path(idx, mesh, num_steps, step_size, first_principal_direction, num_neighbors)\n",
    "    \n",
    "    # Plot starting vertex\n",
    "    p.add_points(np.array([mesh.V[idx]]), shading={\"point_size\": 0.7, \"point_color\": \"black\"})\n",
    "    # Plot edge-points shaping the asymptotic path\n",
    "    p.add_points(P, shading={\"point_size\": 0.2,\"point_color\": \"yellow\"})\n",
    "    # Plot asymptotic curve\n",
    "    if(len(P)>1): \n",
    "        p.add_lines(P[:-1], P[1:], shading={\"line_color\": \"yellow\"})"
   ]
  },
  {
   "cell_type": "code",
   "execution_count": 7,
   "metadata": {},
   "outputs": [
    {
     "name": "stdout",
     "output_type": "stream",
     "text": [
      "Plot saved to file kek.html.\n"
     ]
    }
   ],
   "source": [
    "p.save('kek')"
   ]
  }
 ],
 "metadata": {
  "interpreter": {
   "hash": "d74ce2d711eca57e47550fdd427f707c5faa08517318f0967f4aae699c902c0e"
  },
  "kernelspec": {
   "display_name": "Python 3 (ipykernel)",
   "language": "python",
   "name": "python3"
  },
  "language_info": {
   "codemirror_mode": {
    "name": "ipython",
    "version": 3
   },
   "file_extension": ".py",
   "mimetype": "text/x-python",
   "name": "python",
   "nbconvert_exporter": "python",
   "pygments_lexer": "ipython3",
   "version": "3.9.7"
  }
 },
 "nbformat": 4,
 "nbformat_minor": 4
}
